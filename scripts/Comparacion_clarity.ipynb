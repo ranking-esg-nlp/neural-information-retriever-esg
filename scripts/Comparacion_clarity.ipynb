{
  "nbformat": 4,
  "nbformat_minor": 0,
  "metadata": {
    "colab": {
      "provenance": []
    },
    "kernelspec": {
      "name": "python3",
      "display_name": "Python 3"
    },
    "language_info": {
      "name": "python"
    }
  },
  "cells": [
    {
      "cell_type": "code",
      "execution_count": 1,
      "metadata": {
        "id": "zBmsbIqolFoV"
      },
      "outputs": [],
      "source": [
        "import pandas as pd\n",
        "import plotly.graph_objects as go"
      ]
    },
    {
      "cell_type": "code",
      "source": [
        "#necesario para extraer imagenes\n",
        "! pip install kaleido"
      ],
      "metadata": {
        "colab": {
          "base_uri": "https://localhost:8080/"
        },
        "id": "kFnNQ9LWmaje",
        "outputId": "aaafd58f-dbdc-4fdf-ea2a-98e485486bfb"
      },
      "execution_count": 2,
      "outputs": [
        {
          "output_type": "stream",
          "name": "stdout",
          "text": [
            "Looking in indexes: https://pypi.org/simple, https://us-python.pkg.dev/colab-wheels/public/simple/\n",
            "Requirement already satisfied: kaleido in /usr/local/lib/python3.8/dist-packages (0.2.1)\n"
          ]
        }
      ]
    },
    {
      "cell_type": "markdown",
      "source": [
        "Importamos los resultados del rating de transparencia y el de Clarity"
      ],
      "metadata": {
        "id": "yOyr1qaVlp9I"
      }
    },
    {
      "cell_type": "code",
      "source": [
        "clarity=pd.read_csv('rating_clarity_ibex35.csv', sep=';')\n",
        "rating_transparencia=pd.read_csv('resultados_rating_app_2.csv')"
      ],
      "metadata": {
        "id": "kBdTW6VClSPn"
      },
      "execution_count": 3,
      "outputs": []
    },
    {
      "cell_type": "code",
      "source": [
        "rating_transparencia=rating_transparencia.rename(columns={'empresas':'empresa'})"
      ],
      "metadata": {
        "id": "N23Mt85YlmDG"
      },
      "execution_count": 4,
      "outputs": []
    },
    {
      "cell_type": "markdown",
      "source": [
        "Generamos un dataframe diferente para los resultados de cada año"
      ],
      "metadata": {
        "id": "6BoQTn1yl1af"
      }
    },
    {
      "cell_type": "code",
      "source": [
        "nuestro_2021=rating_transparencia[rating_transparencia.año==2021]\n",
        "nuestro_2021=nuestro_2021[nuestro_2021.score!=0]\n",
        "nuestro_2020=rating_transparencia[rating_transparencia.año==2020]\n",
        "nuestro_2020=nuestro_2020[nuestro_2020.score!=0]\n",
        "nuestro_2019=rating_transparencia[rating_transparencia.año==2019]\n",
        "nuestro_2019=nuestro_2019[nuestro_2019.score!=0]\n",
        "nuestro_2018=rating_transparencia[rating_transparencia.año==2018]\n",
        "nuestro_2018=nuestro_2018[nuestro_2018.score!=0]\n",
        "nuestro_2017=rating_transparencia[rating_transparencia.año==2017]\n",
        "nuestro_2017=nuestro_2017[nuestro_2017.score!=0]"
      ],
      "metadata": {
        "id": "2uxJIgkelpGX"
      },
      "execution_count": 5,
      "outputs": []
    },
    {
      "cell_type": "markdown",
      "source": [
        "Generamos el dataframe con la comparacion de ambos ratings"
      ],
      "metadata": {
        "id": "TMOGg1CsmAf7"
      }
    },
    {
      "cell_type": "code",
      "source": [
        "comparacion=clarity.merge(rating_transparencia, on='empresa')\n",
        "comparacion=comparacion[comparacion.año==2021]\n",
        "comparacion=comparacion.loc[:,['empresa','rating_clarity','score','score_cualitativo']]"
      ],
      "metadata": {
        "id": "THik8rwkl68Z"
      },
      "execution_count": 6,
      "outputs": []
    },
    {
      "cell_type": "markdown",
      "source": [
        "Se calculan los percentiles para los distintos rating y se observan en un grafico"
      ],
      "metadata": {
        "id": "KK2iFb0TmO2X"
      }
    },
    {
      "cell_type": "code",
      "source": [
        "import numpy as np\n",
        "percentiles_clarity=[]\n",
        "arry = comparacion['rating_clarity']\n",
        "for i in range(0,100,1):\n",
        "  percentile = np.percentile(arry, i)\n",
        "  percentiles_clarity.append(percentile)\n",
        "\n",
        "\n",
        "percentiles_nuestro=[]\n",
        "arry = comparacion['score']\n",
        "for i in range(0,100,1):\n",
        "  percentile = np.percentile(arry, i)\n",
        "  percentiles_nuestro.append(percentile)\n",
        "\n",
        "percentiles_nuestro_cual=[]\n",
        "arry = comparacion['score_cualitativo']\n",
        "for i in range(0,100,1):\n",
        "  percentile = np.percentile(arry, i)\n",
        "  percentiles_nuestro_cual.append(percentile)"
      ],
      "metadata": {
        "id": "KBNjjBktmTxn"
      },
      "execution_count": 7,
      "outputs": []
    },
    {
      "cell_type": "code",
      "source": [
        "fig = go.Figure()\n",
        "\n",
        "fig.add_trace(go.Scatter(x=list(range(0,100)), y=percentiles_clarity,mode='lines', name='Rat. Clarity',line = dict(color = 'lightblue')))\n",
        "fig.add_trace(go.Scatter(x=list(range(0,100)), y=percentiles_nuestro,mode='lines', name='Rat. Transparencia',line = dict(color = 'dodgerblue')))\n",
        "fig.add_trace(go.Scatter(x=list(range(0,100)), y=percentiles_nuestro_cual,mode='lines', name='Rat. Transparencia Cual',line = dict(color = 'darkblue')))\n",
        "\n",
        "\n",
        "fig.update_layout(\n",
        "\n",
        "xaxis_title='Percentil',\n",
        "yaxis_title=\"Score\",\n",
        "width=int(700),\n",
        "yaxis_range=[0,105],\n",
        "xaxis_range=[0,100],\n",
        "plot_bgcolor='white'\n",
        "    )\n",
        "fig.update_xaxes(tickvals=[10,20,30,40,50,60,70,80,90,100],gridcolor='lightgrey')\n",
        "fig.update_yaxes(tickvals=[10,20,30,40,50,60,70,80,90,100],gridcolor='lightgrey')\n",
        "\n",
        "fig.update_layout(title_text='Comparación percentiles entre ratings ')\n",
        "fig.show()\n",
        "fig.write_image(\"comp_percentiles.png\")"
      ],
      "metadata": {
        "colab": {
          "base_uri": "https://localhost:8080/",
          "height": 542
        },
        "id": "eejqPZHpmIXf",
        "outputId": "0731180f-840f-43f0-f6dd-ba8f7271e890"
      },
      "execution_count": 9,
      "outputs": [
        {
          "output_type": "display_data",
          "data": {
            "text/html": [
              "<html>\n",
              "<head><meta charset=\"utf-8\" /></head>\n",
              "<body>\n",
              "    <div>            <script src=\"https://cdnjs.cloudflare.com/ajax/libs/mathjax/2.7.5/MathJax.js?config=TeX-AMS-MML_SVG\"></script><script type=\"text/javascript\">if (window.MathJax) {MathJax.Hub.Config({SVG: {font: \"STIX-Web\"}});}</script>                <script type=\"text/javascript\">window.PlotlyConfig = {MathJaxConfig: 'local'};</script>\n",
              "        <script src=\"https://cdn.plot.ly/plotly-2.8.3.min.js\"></script>                <div id=\"de7243a2-a787-4044-8de7-70c1dcb074e4\" class=\"plotly-graph-div\" style=\"height:525px; width:700px;\"></div>            <script type=\"text/javascript\">                                    window.PLOTLYENV=window.PLOTLYENV || {};                                    if (document.getElementById(\"de7243a2-a787-4044-8de7-70c1dcb074e4\")) {                    Plotly.newPlot(                        \"de7243a2-a787-4044-8de7-70c1dcb074e4\",                        [{\"line\":{\"color\":\"lightblue\"},\"mode\":\"lines\",\"name\":\"Rat. Clarity\",\"x\":[0,1,2,3,4,5,6,7,8,9,10,11,12,13,14,15,16,17,18,19,20,21,22,23,24,25,26,27,28,29,30,31,32,33,34,35,36,37,38,39,40,41,42,43,44,45,46,47,48,49,50,51,52,53,54,55,56,57,58,59,60,61,62,63,64,65,66,67,68,69,70,71,72,73,74,75,76,77,78,79,80,81,82,83,84,85,86,87,88,89,90,91,92,93,94,95,96,97,98,99],\"y\":[34.0,34.68,35.36,36.36,42.480000000000004,48.6,54.08,54.76,55.44,56.12,56.8,57.480000000000004,58.0,58.0,58.0,58.4,59.760000000000005,61.120000000000005,62.480000000000004,63.84,65.2,66.14,66.48,66.82,67.16,67.5,67.84,68.36,69.04,69.72,70.4,71.08,71.76,72.0,72.0,72.0,72.48,73.16,73.84,74.0,74.0,74.0,74.0,74.0,74.0,74.9,75.92,76.94,77.0,77.0,77.0,77.68,78.36,79.02,79.36,79.7,80.0,80.0,80.0,80.0,80.0,80.0,80.08,80.42,80.76,81.1,81.44,81.78,82.24000000000001,82.91999999999999,83.6,84.28,84.96000000000001,85.64,86.32,87.0,87.68,88.0,88.0,88.0,88.0,88.0,88.0,88.22,88.56,88.9,89.0,89.0,89.0,89.52000000000001,90.2,90.88,92.68,94.72,96.75999999999999,97.3,97.64,97.97999999999999,98.0,98.0],\"type\":\"scatter\"},{\"line\":{\"color\":\"dodgerblue\"},\"mode\":\"lines\",\"name\":\"Rat. Transparencia\",\"x\":[0,1,2,3,4,5,6,7,8,9,10,11,12,13,14,15,16,17,18,19,20,21,22,23,24,25,26,27,28,29,30,31,32,33,34,35,36,37,38,39,40,41,42,43,44,45,46,47,48,49,50,51,52,53,54,55,56,57,58,59,60,61,62,63,64,65,66,67,68,69,70,71,72,73,74,75,76,77,78,79,80,81,82,83,84,85,86,87,88,89,90,91,92,93,94,95,96,97,98,99],\"y\":[24.07,24.2264,24.3828,24.6584,26.8412,29.024,31.0456,31.8582,32.6708,33.5392,34.668,35.7968,36.708,36.912,37.116,37.303999999999995,37.4536,37.6032,38.3036,40.0138,41.724000000000004,42.907799999999995,43.3396,43.7714,44.0272,44.085,44.1428,44.5732,45.3348,46.096399999999996,47.126,48.343199999999996,49.5604,50.1396,50.3708,50.602000000000004,51.5628,52.827600000000004,54.0924,54.449799999999996,54.528,54.606199999999994,55.294799999999995,56.1142,56.933600000000006,57.291000000000004,57.5868,57.8826,59.3912,60.9756,62.56,62.9578,63.355599999999995,63.733,63.784,63.835,63.894400000000005,64.0168,64.1392,64.25439999999999,64.336,64.41760000000001,64.7192,65.73580000000001,66.75240000000001,67.481,67.5184,67.5558,67.5812,67.5846,67.58800000000001,67.97080000000001,68.8956,69.8204,70.39320000000001,70.57,70.7468,70.938,71.142,71.346,71.73800000000001,72.2616,72.7852,73.0492,73.1716,73.294,74.1052,75.2034,76.30160000000001,76.56,76.56,76.56,76.61880000000001,76.6902,76.7616,77.499,78.3252,79.1514,80.77120000000001,82.44059999999999],\"type\":\"scatter\"},{\"line\":{\"color\":\"darkblue\"},\"mode\":\"lines\",\"name\":\"Rat. Transparencia Cual\",\"x\":[0,1,2,3,4,5,6,7,8,9,10,11,12,13,14,15,16,17,18,19,20,21,22,23,24,25,26,27,28,29,30,31,32,33,34,35,36,37,38,39,40,41,42,43,44,45,46,47,48,49,50,51,52,53,54,55,56,57,58,59,60,61,62,63,64,65,66,67,68,69,70,71,72,73,74,75,76,77,78,79,80,81,82,83,84,85,86,87,88,89,90,91,92,93,94,95,96,97,98,99],\"y\":[11.9,16.014,20.128,24.131,26.358,28.585,30.703200000000002,32.0054,33.3076,34.5426,35.464000000000006,36.385400000000004,37.60680000000001,39.803200000000004,41.9996,43.812,44.7028,45.5936,46.6368,47.9594,49.282000000000004,50.06,50.06,50.06,51.650400000000005,55.03,58.4096,60.45,61.300000000000004,62.15,62.726,63.1102,63.494400000000006,64.1668,64.9964,65.826,66.36519999999999,66.7834,67.2016,67.482,67.72,67.958,68.1176,68.2604,68.4032,68.519,68.6312,68.7434,68.75,68.75,68.75,68.75,68.75,68.7638,68.9984,69.233,69.55120000000001,70.4964,71.4416,72.4468,73.732,75.01719999999999,76.34159999999999,77.7934,79.2452,80.368,80.7012,81.0344,81.3172,81.5076,81.698,82.0228,82.53960000000001,83.0564,83.4372,83.66499999999999,83.8928,84.0684,84.1976,84.32679999999999,84.504,84.7148,84.9256,85.8536,87.1728,88.49199999999999,89.264,89.80799999999999,90.352,91.3302,92.44200000000001,93.55380000000001,95.4972,97.61880000000001,99.74039999999998,99.993,99.9964,99.9998,100.0,100.0],\"type\":\"scatter\"}],                        {\"template\":{\"data\":{\"bar\":[{\"error_x\":{\"color\":\"#2a3f5f\"},\"error_y\":{\"color\":\"#2a3f5f\"},\"marker\":{\"line\":{\"color\":\"#E5ECF6\",\"width\":0.5},\"pattern\":{\"fillmode\":\"overlay\",\"size\":10,\"solidity\":0.2}},\"type\":\"bar\"}],\"barpolar\":[{\"marker\":{\"line\":{\"color\":\"#E5ECF6\",\"width\":0.5},\"pattern\":{\"fillmode\":\"overlay\",\"size\":10,\"solidity\":0.2}},\"type\":\"barpolar\"}],\"carpet\":[{\"aaxis\":{\"endlinecolor\":\"#2a3f5f\",\"gridcolor\":\"white\",\"linecolor\":\"white\",\"minorgridcolor\":\"white\",\"startlinecolor\":\"#2a3f5f\"},\"baxis\":{\"endlinecolor\":\"#2a3f5f\",\"gridcolor\":\"white\",\"linecolor\":\"white\",\"minorgridcolor\":\"white\",\"startlinecolor\":\"#2a3f5f\"},\"type\":\"carpet\"}],\"choropleth\":[{\"colorbar\":{\"outlinewidth\":0,\"ticks\":\"\"},\"type\":\"choropleth\"}],\"contour\":[{\"colorbar\":{\"outlinewidth\":0,\"ticks\":\"\"},\"colorscale\":[[0.0,\"#0d0887\"],[0.1111111111111111,\"#46039f\"],[0.2222222222222222,\"#7201a8\"],[0.3333333333333333,\"#9c179e\"],[0.4444444444444444,\"#bd3786\"],[0.5555555555555556,\"#d8576b\"],[0.6666666666666666,\"#ed7953\"],[0.7777777777777778,\"#fb9f3a\"],[0.8888888888888888,\"#fdca26\"],[1.0,\"#f0f921\"]],\"type\":\"contour\"}],\"contourcarpet\":[{\"colorbar\":{\"outlinewidth\":0,\"ticks\":\"\"},\"type\":\"contourcarpet\"}],\"heatmap\":[{\"colorbar\":{\"outlinewidth\":0,\"ticks\":\"\"},\"colorscale\":[[0.0,\"#0d0887\"],[0.1111111111111111,\"#46039f\"],[0.2222222222222222,\"#7201a8\"],[0.3333333333333333,\"#9c179e\"],[0.4444444444444444,\"#bd3786\"],[0.5555555555555556,\"#d8576b\"],[0.6666666666666666,\"#ed7953\"],[0.7777777777777778,\"#fb9f3a\"],[0.8888888888888888,\"#fdca26\"],[1.0,\"#f0f921\"]],\"type\":\"heatmap\"}],\"heatmapgl\":[{\"colorbar\":{\"outlinewidth\":0,\"ticks\":\"\"},\"colorscale\":[[0.0,\"#0d0887\"],[0.1111111111111111,\"#46039f\"],[0.2222222222222222,\"#7201a8\"],[0.3333333333333333,\"#9c179e\"],[0.4444444444444444,\"#bd3786\"],[0.5555555555555556,\"#d8576b\"],[0.6666666666666666,\"#ed7953\"],[0.7777777777777778,\"#fb9f3a\"],[0.8888888888888888,\"#fdca26\"],[1.0,\"#f0f921\"]],\"type\":\"heatmapgl\"}],\"histogram\":[{\"marker\":{\"pattern\":{\"fillmode\":\"overlay\",\"size\":10,\"solidity\":0.2}},\"type\":\"histogram\"}],\"histogram2d\":[{\"colorbar\":{\"outlinewidth\":0,\"ticks\":\"\"},\"colorscale\":[[0.0,\"#0d0887\"],[0.1111111111111111,\"#46039f\"],[0.2222222222222222,\"#7201a8\"],[0.3333333333333333,\"#9c179e\"],[0.4444444444444444,\"#bd3786\"],[0.5555555555555556,\"#d8576b\"],[0.6666666666666666,\"#ed7953\"],[0.7777777777777778,\"#fb9f3a\"],[0.8888888888888888,\"#fdca26\"],[1.0,\"#f0f921\"]],\"type\":\"histogram2d\"}],\"histogram2dcontour\":[{\"colorbar\":{\"outlinewidth\":0,\"ticks\":\"\"},\"colorscale\":[[0.0,\"#0d0887\"],[0.1111111111111111,\"#46039f\"],[0.2222222222222222,\"#7201a8\"],[0.3333333333333333,\"#9c179e\"],[0.4444444444444444,\"#bd3786\"],[0.5555555555555556,\"#d8576b\"],[0.6666666666666666,\"#ed7953\"],[0.7777777777777778,\"#fb9f3a\"],[0.8888888888888888,\"#fdca26\"],[1.0,\"#f0f921\"]],\"type\":\"histogram2dcontour\"}],\"mesh3d\":[{\"colorbar\":{\"outlinewidth\":0,\"ticks\":\"\"},\"type\":\"mesh3d\"}],\"parcoords\":[{\"line\":{\"colorbar\":{\"outlinewidth\":0,\"ticks\":\"\"}},\"type\":\"parcoords\"}],\"pie\":[{\"automargin\":true,\"type\":\"pie\"}],\"scatter\":[{\"marker\":{\"colorbar\":{\"outlinewidth\":0,\"ticks\":\"\"}},\"type\":\"scatter\"}],\"scatter3d\":[{\"line\":{\"colorbar\":{\"outlinewidth\":0,\"ticks\":\"\"}},\"marker\":{\"colorbar\":{\"outlinewidth\":0,\"ticks\":\"\"}},\"type\":\"scatter3d\"}],\"scattercarpet\":[{\"marker\":{\"colorbar\":{\"outlinewidth\":0,\"ticks\":\"\"}},\"type\":\"scattercarpet\"}],\"scattergeo\":[{\"marker\":{\"colorbar\":{\"outlinewidth\":0,\"ticks\":\"\"}},\"type\":\"scattergeo\"}],\"scattergl\":[{\"marker\":{\"colorbar\":{\"outlinewidth\":0,\"ticks\":\"\"}},\"type\":\"scattergl\"}],\"scattermapbox\":[{\"marker\":{\"colorbar\":{\"outlinewidth\":0,\"ticks\":\"\"}},\"type\":\"scattermapbox\"}],\"scatterpolar\":[{\"marker\":{\"colorbar\":{\"outlinewidth\":0,\"ticks\":\"\"}},\"type\":\"scatterpolar\"}],\"scatterpolargl\":[{\"marker\":{\"colorbar\":{\"outlinewidth\":0,\"ticks\":\"\"}},\"type\":\"scatterpolargl\"}],\"scatterternary\":[{\"marker\":{\"colorbar\":{\"outlinewidth\":0,\"ticks\":\"\"}},\"type\":\"scatterternary\"}],\"surface\":[{\"colorbar\":{\"outlinewidth\":0,\"ticks\":\"\"},\"colorscale\":[[0.0,\"#0d0887\"],[0.1111111111111111,\"#46039f\"],[0.2222222222222222,\"#7201a8\"],[0.3333333333333333,\"#9c179e\"],[0.4444444444444444,\"#bd3786\"],[0.5555555555555556,\"#d8576b\"],[0.6666666666666666,\"#ed7953\"],[0.7777777777777778,\"#fb9f3a\"],[0.8888888888888888,\"#fdca26\"],[1.0,\"#f0f921\"]],\"type\":\"surface\"}],\"table\":[{\"cells\":{\"fill\":{\"color\":\"#EBF0F8\"},\"line\":{\"color\":\"white\"}},\"header\":{\"fill\":{\"color\":\"#C8D4E3\"},\"line\":{\"color\":\"white\"}},\"type\":\"table\"}]},\"layout\":{\"annotationdefaults\":{\"arrowcolor\":\"#2a3f5f\",\"arrowhead\":0,\"arrowwidth\":1},\"autotypenumbers\":\"strict\",\"coloraxis\":{\"colorbar\":{\"outlinewidth\":0,\"ticks\":\"\"}},\"colorscale\":{\"diverging\":[[0,\"#8e0152\"],[0.1,\"#c51b7d\"],[0.2,\"#de77ae\"],[0.3,\"#f1b6da\"],[0.4,\"#fde0ef\"],[0.5,\"#f7f7f7\"],[0.6,\"#e6f5d0\"],[0.7,\"#b8e186\"],[0.8,\"#7fbc41\"],[0.9,\"#4d9221\"],[1,\"#276419\"]],\"sequential\":[[0.0,\"#0d0887\"],[0.1111111111111111,\"#46039f\"],[0.2222222222222222,\"#7201a8\"],[0.3333333333333333,\"#9c179e\"],[0.4444444444444444,\"#bd3786\"],[0.5555555555555556,\"#d8576b\"],[0.6666666666666666,\"#ed7953\"],[0.7777777777777778,\"#fb9f3a\"],[0.8888888888888888,\"#fdca26\"],[1.0,\"#f0f921\"]],\"sequentialminus\":[[0.0,\"#0d0887\"],[0.1111111111111111,\"#46039f\"],[0.2222222222222222,\"#7201a8\"],[0.3333333333333333,\"#9c179e\"],[0.4444444444444444,\"#bd3786\"],[0.5555555555555556,\"#d8576b\"],[0.6666666666666666,\"#ed7953\"],[0.7777777777777778,\"#fb9f3a\"],[0.8888888888888888,\"#fdca26\"],[1.0,\"#f0f921\"]]},\"colorway\":[\"#636efa\",\"#EF553B\",\"#00cc96\",\"#ab63fa\",\"#FFA15A\",\"#19d3f3\",\"#FF6692\",\"#B6E880\",\"#FF97FF\",\"#FECB52\"],\"font\":{\"color\":\"#2a3f5f\"},\"geo\":{\"bgcolor\":\"white\",\"lakecolor\":\"white\",\"landcolor\":\"#E5ECF6\",\"showlakes\":true,\"showland\":true,\"subunitcolor\":\"white\"},\"hoverlabel\":{\"align\":\"left\"},\"hovermode\":\"closest\",\"mapbox\":{\"style\":\"light\"},\"paper_bgcolor\":\"white\",\"plot_bgcolor\":\"#E5ECF6\",\"polar\":{\"angularaxis\":{\"gridcolor\":\"white\",\"linecolor\":\"white\",\"ticks\":\"\"},\"bgcolor\":\"#E5ECF6\",\"radialaxis\":{\"gridcolor\":\"white\",\"linecolor\":\"white\",\"ticks\":\"\"}},\"scene\":{\"xaxis\":{\"backgroundcolor\":\"#E5ECF6\",\"gridcolor\":\"white\",\"gridwidth\":2,\"linecolor\":\"white\",\"showbackground\":true,\"ticks\":\"\",\"zerolinecolor\":\"white\"},\"yaxis\":{\"backgroundcolor\":\"#E5ECF6\",\"gridcolor\":\"white\",\"gridwidth\":2,\"linecolor\":\"white\",\"showbackground\":true,\"ticks\":\"\",\"zerolinecolor\":\"white\"},\"zaxis\":{\"backgroundcolor\":\"#E5ECF6\",\"gridcolor\":\"white\",\"gridwidth\":2,\"linecolor\":\"white\",\"showbackground\":true,\"ticks\":\"\",\"zerolinecolor\":\"white\"}},\"shapedefaults\":{\"line\":{\"color\":\"#2a3f5f\"}},\"ternary\":{\"aaxis\":{\"gridcolor\":\"white\",\"linecolor\":\"white\",\"ticks\":\"\"},\"baxis\":{\"gridcolor\":\"white\",\"linecolor\":\"white\",\"ticks\":\"\"},\"bgcolor\":\"#E5ECF6\",\"caxis\":{\"gridcolor\":\"white\",\"linecolor\":\"white\",\"ticks\":\"\"}},\"title\":{\"x\":0.05},\"xaxis\":{\"automargin\":true,\"gridcolor\":\"white\",\"linecolor\":\"white\",\"ticks\":\"\",\"title\":{\"standoff\":15},\"zerolinecolor\":\"white\",\"zerolinewidth\":2},\"yaxis\":{\"automargin\":true,\"gridcolor\":\"white\",\"linecolor\":\"white\",\"ticks\":\"\",\"title\":{\"standoff\":15},\"zerolinecolor\":\"white\",\"zerolinewidth\":2}}},\"yaxis\":{\"title\":{\"text\":\"Score\"},\"range\":[0,105],\"tickvals\":[10,20,30,40,50,60,70,80,90,100],\"gridcolor\":\"lightgrey\"},\"xaxis\":{\"title\":{\"text\":\"Percentil\"},\"range\":[0,100],\"tickvals\":[10,20,30,40,50,60,70,80,90,100],\"gridcolor\":\"lightgrey\"},\"width\":700,\"plot_bgcolor\":\"white\",\"title\":{\"text\":\"Comparaci\\u00f3n percentiles entre ratings \"}},                        {\"responsive\": true}                    ).then(function(){\n",
              "                            \n",
              "var gd = document.getElementById('de7243a2-a787-4044-8de7-70c1dcb074e4');\n",
              "var x = new MutationObserver(function (mutations, observer) {{\n",
              "        var display = window.getComputedStyle(gd).display;\n",
              "        if (!display || display === 'none') {{\n",
              "            console.log([gd, 'removed!']);\n",
              "            Plotly.purge(gd);\n",
              "            observer.disconnect();\n",
              "        }}\n",
              "}});\n",
              "\n",
              "// Listen for the removal of the full notebook cells\n",
              "var notebookContainer = gd.closest('#notebook-container');\n",
              "if (notebookContainer) {{\n",
              "    x.observe(notebookContainer, {childList: true});\n",
              "}}\n",
              "\n",
              "// Listen for the clearing of the current output cell\n",
              "var outputEl = gd.closest('.output');\n",
              "if (outputEl) {{\n",
              "    x.observe(outputEl, {childList: true});\n",
              "}}\n",
              "\n",
              "                        })                };                            </script>        </div>\n",
              "</body>\n",
              "</html>"
            ]
          },
          "metadata": {}
        }
      ]
    },
    {
      "cell_type": "markdown",
      "source": [
        "Gracias a este grafico podemos comparar dada una empresa cual es su score segun los diferentes ratings y en que percentil se encuentra para cada uno de ellos. Para ello se genera una funcion cuya entrada es la empresa a analizar."
      ],
      "metadata": {
        "id": "DFIQQQTWm5uh"
      }
    },
    {
      "cell_type": "code",
      "source": [
        "def percentil_empresa(empresa):\n",
        "  score_c=float(comparacion[comparacion.empresa==empresa].rating_clarity)\n",
        "  score_n=float(comparacion[comparacion.empresa==empresa].score)\n",
        "  score_nc=float(comparacion[comparacion.empresa==empresa].score_cualitativo)\n",
        "  for i in range(0,99):\n",
        "    izq=percentiles_clarity[i]\n",
        "    derecho=percentiles_clarity[i+1]\n",
        "    \n",
        "    if score_c <= derecho and score_c>izq:\n",
        "      percentil_c=i\n",
        "  for i in range(0,99):\n",
        "    izq=percentiles_nuestro[i]\n",
        "    derecho=percentiles_nuestro[i+1]\n",
        "    \n",
        "    if score_n <= derecho and score_n>izq:\n",
        "      percentil_n=i\n",
        "  for i in range(0,99):\n",
        "    izq=percentiles_nuestro_cual[i]\n",
        "    derecho=percentiles_nuestro_cual[i+1]\n",
        "    \n",
        "    if score_nc <= derecho and score_nc>izq:\n",
        "      percentil_nc=i\n",
        "  titulo='Comparación entre rating - '+ empresa\n",
        "  fig = go.Figure()\n",
        "\n",
        "\n",
        "\n",
        "  fig.add_trace(go.Scatter(x=list(range(0,100)), y=percentiles_clarity,mode='lines', name='clarity',line = dict(color = 'lightblue')))\n",
        "  fig.add_trace(go.Scatter(x=list(range(0,100)), y=percentiles_nuestro,mode='lines', name='nuestro',line = dict(color = 'dodgerblue')))\n",
        "  fig.add_trace(go.Scatter(x=list(range(0,100)), y=percentiles_nuestro_cual,mode='lines', name='nuestro cual',line = dict(color = 'darkblue')))\n",
        " \n",
        "  fig.add_trace(go.Scatter(x=[percentil_c,percentil_n,percentil_nc], y=[score_c,score_n,score_nc], mode='markers',name=empresa, marker=dict(size=[10,10,10],\n",
        "                  color=[ 1,1,1])))\n",
        "\n",
        "  fig.update_layout(\n",
        "\n",
        "  xaxis_title='Percentil',\n",
        "  yaxis_title=\"Score\",\n",
        "  width=int(700),\n",
        "  yaxis_range=[0,105],\n",
        "  xaxis_range=[0,100],\n",
        "  plot_bgcolor='white'\n",
        "      )\n",
        "  fig.update_xaxes(tickvals=[10,20,30,40,50,60,70,80,90],gridcolor='lightgrey')\n",
        "  fig.update_yaxes(tickvals=[10,20,30,40,50,60,70,80,90,100],gridcolor='lightgrey')\n",
        "  fig.update_layout(transition_duration=500)\n",
        "  fig.update_layout(title_text=titulo)\n",
        "  fig.show()\n",
        "  fig.write_image(\"comp_percentiles_empresa.png\")"
      ],
      "metadata": {
        "id": "N7JhWigsmzn-"
      },
      "execution_count": 10,
      "outputs": []
    },
    {
      "cell_type": "code",
      "source": [
        "percentil_empresa('Iberdrola')"
      ],
      "metadata": {
        "colab": {
          "base_uri": "https://localhost:8080/",
          "height": 542
        },
        "id": "raLYC0tLnSWN",
        "outputId": "dd2993a6-4aac-4ef0-eb27-dbcb223ba2cb"
      },
      "execution_count": 11,
      "outputs": [
        {
          "output_type": "display_data",
          "data": {
            "text/html": [
              "<html>\n",
              "<head><meta charset=\"utf-8\" /></head>\n",
              "<body>\n",
              "    <div>            <script src=\"https://cdnjs.cloudflare.com/ajax/libs/mathjax/2.7.5/MathJax.js?config=TeX-AMS-MML_SVG\"></script><script type=\"text/javascript\">if (window.MathJax) {MathJax.Hub.Config({SVG: {font: \"STIX-Web\"}});}</script>                <script type=\"text/javascript\">window.PlotlyConfig = {MathJaxConfig: 'local'};</script>\n",
              "        <script src=\"https://cdn.plot.ly/plotly-2.8.3.min.js\"></script>                <div id=\"bebf03fe-62b4-498f-b283-3fafb2b27f0b\" class=\"plotly-graph-div\" style=\"height:525px; width:700px;\"></div>            <script type=\"text/javascript\">                                    window.PLOTLYENV=window.PLOTLYENV || {};                                    if (document.getElementById(\"bebf03fe-62b4-498f-b283-3fafb2b27f0b\")) {                    Plotly.newPlot(                        \"bebf03fe-62b4-498f-b283-3fafb2b27f0b\",                        [{\"line\":{\"color\":\"lightblue\"},\"mode\":\"lines\",\"name\":\"clarity\",\"x\":[0,1,2,3,4,5,6,7,8,9,10,11,12,13,14,15,16,17,18,19,20,21,22,23,24,25,26,27,28,29,30,31,32,33,34,35,36,37,38,39,40,41,42,43,44,45,46,47,48,49,50,51,52,53,54,55,56,57,58,59,60,61,62,63,64,65,66,67,68,69,70,71,72,73,74,75,76,77,78,79,80,81,82,83,84,85,86,87,88,89,90,91,92,93,94,95,96,97,98,99],\"y\":[34.0,34.68,35.36,36.36,42.480000000000004,48.6,54.08,54.76,55.44,56.12,56.8,57.480000000000004,58.0,58.0,58.0,58.4,59.760000000000005,61.120000000000005,62.480000000000004,63.84,65.2,66.14,66.48,66.82,67.16,67.5,67.84,68.36,69.04,69.72,70.4,71.08,71.76,72.0,72.0,72.0,72.48,73.16,73.84,74.0,74.0,74.0,74.0,74.0,74.0,74.9,75.92,76.94,77.0,77.0,77.0,77.68,78.36,79.02,79.36,79.7,80.0,80.0,80.0,80.0,80.0,80.0,80.08,80.42,80.76,81.1,81.44,81.78,82.24000000000001,82.91999999999999,83.6,84.28,84.96000000000001,85.64,86.32,87.0,87.68,88.0,88.0,88.0,88.0,88.0,88.0,88.22,88.56,88.9,89.0,89.0,89.0,89.52000000000001,90.2,90.88,92.68,94.72,96.75999999999999,97.3,97.64,97.97999999999999,98.0,98.0],\"type\":\"scatter\"},{\"line\":{\"color\":\"dodgerblue\"},\"mode\":\"lines\",\"name\":\"nuestro\",\"x\":[0,1,2,3,4,5,6,7,8,9,10,11,12,13,14,15,16,17,18,19,20,21,22,23,24,25,26,27,28,29,30,31,32,33,34,35,36,37,38,39,40,41,42,43,44,45,46,47,48,49,50,51,52,53,54,55,56,57,58,59,60,61,62,63,64,65,66,67,68,69,70,71,72,73,74,75,76,77,78,79,80,81,82,83,84,85,86,87,88,89,90,91,92,93,94,95,96,97,98,99],\"y\":[24.07,24.2264,24.3828,24.6584,26.8412,29.024,31.0456,31.8582,32.6708,33.5392,34.668,35.7968,36.708,36.912,37.116,37.303999999999995,37.4536,37.6032,38.3036,40.0138,41.724000000000004,42.907799999999995,43.3396,43.7714,44.0272,44.085,44.1428,44.5732,45.3348,46.096399999999996,47.126,48.343199999999996,49.5604,50.1396,50.3708,50.602000000000004,51.5628,52.827600000000004,54.0924,54.449799999999996,54.528,54.606199999999994,55.294799999999995,56.1142,56.933600000000006,57.291000000000004,57.5868,57.8826,59.3912,60.9756,62.56,62.9578,63.355599999999995,63.733,63.784,63.835,63.894400000000005,64.0168,64.1392,64.25439999999999,64.336,64.41760000000001,64.7192,65.73580000000001,66.75240000000001,67.481,67.5184,67.5558,67.5812,67.5846,67.58800000000001,67.97080000000001,68.8956,69.8204,70.39320000000001,70.57,70.7468,70.938,71.142,71.346,71.73800000000001,72.2616,72.7852,73.0492,73.1716,73.294,74.1052,75.2034,76.30160000000001,76.56,76.56,76.56,76.61880000000001,76.6902,76.7616,77.499,78.3252,79.1514,80.77120000000001,82.44059999999999],\"type\":\"scatter\"},{\"line\":{\"color\":\"darkblue\"},\"mode\":\"lines\",\"name\":\"nuestro cual\",\"x\":[0,1,2,3,4,5,6,7,8,9,10,11,12,13,14,15,16,17,18,19,20,21,22,23,24,25,26,27,28,29,30,31,32,33,34,35,36,37,38,39,40,41,42,43,44,45,46,47,48,49,50,51,52,53,54,55,56,57,58,59,60,61,62,63,64,65,66,67,68,69,70,71,72,73,74,75,76,77,78,79,80,81,82,83,84,85,86,87,88,89,90,91,92,93,94,95,96,97,98,99],\"y\":[11.9,16.014,20.128,24.131,26.358,28.585,30.703200000000002,32.0054,33.3076,34.5426,35.464000000000006,36.385400000000004,37.60680000000001,39.803200000000004,41.9996,43.812,44.7028,45.5936,46.6368,47.9594,49.282000000000004,50.06,50.06,50.06,51.650400000000005,55.03,58.4096,60.45,61.300000000000004,62.15,62.726,63.1102,63.494400000000006,64.1668,64.9964,65.826,66.36519999999999,66.7834,67.2016,67.482,67.72,67.958,68.1176,68.2604,68.4032,68.519,68.6312,68.7434,68.75,68.75,68.75,68.75,68.75,68.7638,68.9984,69.233,69.55120000000001,70.4964,71.4416,72.4468,73.732,75.01719999999999,76.34159999999999,77.7934,79.2452,80.368,80.7012,81.0344,81.3172,81.5076,81.698,82.0228,82.53960000000001,83.0564,83.4372,83.66499999999999,83.8928,84.0684,84.1976,84.32679999999999,84.504,84.7148,84.9256,85.8536,87.1728,88.49199999999999,89.264,89.80799999999999,90.352,91.3302,92.44200000000001,93.55380000000001,95.4972,97.61880000000001,99.74039999999998,99.993,99.9964,99.9998,100.0,100.0],\"type\":\"scatter\"},{\"marker\":{\"color\":[1,1,1],\"size\":[10,10,10]},\"mode\":\"markers\",\"name\":\"Iberdrola\",\"x\":[38,97,97],\"y\":[74.0,79.2,100.0],\"type\":\"scatter\"}],                        {\"template\":{\"data\":{\"bar\":[{\"error_x\":{\"color\":\"#2a3f5f\"},\"error_y\":{\"color\":\"#2a3f5f\"},\"marker\":{\"line\":{\"color\":\"#E5ECF6\",\"width\":0.5},\"pattern\":{\"fillmode\":\"overlay\",\"size\":10,\"solidity\":0.2}},\"type\":\"bar\"}],\"barpolar\":[{\"marker\":{\"line\":{\"color\":\"#E5ECF6\",\"width\":0.5},\"pattern\":{\"fillmode\":\"overlay\",\"size\":10,\"solidity\":0.2}},\"type\":\"barpolar\"}],\"carpet\":[{\"aaxis\":{\"endlinecolor\":\"#2a3f5f\",\"gridcolor\":\"white\",\"linecolor\":\"white\",\"minorgridcolor\":\"white\",\"startlinecolor\":\"#2a3f5f\"},\"baxis\":{\"endlinecolor\":\"#2a3f5f\",\"gridcolor\":\"white\",\"linecolor\":\"white\",\"minorgridcolor\":\"white\",\"startlinecolor\":\"#2a3f5f\"},\"type\":\"carpet\"}],\"choropleth\":[{\"colorbar\":{\"outlinewidth\":0,\"ticks\":\"\"},\"type\":\"choropleth\"}],\"contour\":[{\"colorbar\":{\"outlinewidth\":0,\"ticks\":\"\"},\"colorscale\":[[0.0,\"#0d0887\"],[0.1111111111111111,\"#46039f\"],[0.2222222222222222,\"#7201a8\"],[0.3333333333333333,\"#9c179e\"],[0.4444444444444444,\"#bd3786\"],[0.5555555555555556,\"#d8576b\"],[0.6666666666666666,\"#ed7953\"],[0.7777777777777778,\"#fb9f3a\"],[0.8888888888888888,\"#fdca26\"],[1.0,\"#f0f921\"]],\"type\":\"contour\"}],\"contourcarpet\":[{\"colorbar\":{\"outlinewidth\":0,\"ticks\":\"\"},\"type\":\"contourcarpet\"}],\"heatmap\":[{\"colorbar\":{\"outlinewidth\":0,\"ticks\":\"\"},\"colorscale\":[[0.0,\"#0d0887\"],[0.1111111111111111,\"#46039f\"],[0.2222222222222222,\"#7201a8\"],[0.3333333333333333,\"#9c179e\"],[0.4444444444444444,\"#bd3786\"],[0.5555555555555556,\"#d8576b\"],[0.6666666666666666,\"#ed7953\"],[0.7777777777777778,\"#fb9f3a\"],[0.8888888888888888,\"#fdca26\"],[1.0,\"#f0f921\"]],\"type\":\"heatmap\"}],\"heatmapgl\":[{\"colorbar\":{\"outlinewidth\":0,\"ticks\":\"\"},\"colorscale\":[[0.0,\"#0d0887\"],[0.1111111111111111,\"#46039f\"],[0.2222222222222222,\"#7201a8\"],[0.3333333333333333,\"#9c179e\"],[0.4444444444444444,\"#bd3786\"],[0.5555555555555556,\"#d8576b\"],[0.6666666666666666,\"#ed7953\"],[0.7777777777777778,\"#fb9f3a\"],[0.8888888888888888,\"#fdca26\"],[1.0,\"#f0f921\"]],\"type\":\"heatmapgl\"}],\"histogram\":[{\"marker\":{\"pattern\":{\"fillmode\":\"overlay\",\"size\":10,\"solidity\":0.2}},\"type\":\"histogram\"}],\"histogram2d\":[{\"colorbar\":{\"outlinewidth\":0,\"ticks\":\"\"},\"colorscale\":[[0.0,\"#0d0887\"],[0.1111111111111111,\"#46039f\"],[0.2222222222222222,\"#7201a8\"],[0.3333333333333333,\"#9c179e\"],[0.4444444444444444,\"#bd3786\"],[0.5555555555555556,\"#d8576b\"],[0.6666666666666666,\"#ed7953\"],[0.7777777777777778,\"#fb9f3a\"],[0.8888888888888888,\"#fdca26\"],[1.0,\"#f0f921\"]],\"type\":\"histogram2d\"}],\"histogram2dcontour\":[{\"colorbar\":{\"outlinewidth\":0,\"ticks\":\"\"},\"colorscale\":[[0.0,\"#0d0887\"],[0.1111111111111111,\"#46039f\"],[0.2222222222222222,\"#7201a8\"],[0.3333333333333333,\"#9c179e\"],[0.4444444444444444,\"#bd3786\"],[0.5555555555555556,\"#d8576b\"],[0.6666666666666666,\"#ed7953\"],[0.7777777777777778,\"#fb9f3a\"],[0.8888888888888888,\"#fdca26\"],[1.0,\"#f0f921\"]],\"type\":\"histogram2dcontour\"}],\"mesh3d\":[{\"colorbar\":{\"outlinewidth\":0,\"ticks\":\"\"},\"type\":\"mesh3d\"}],\"parcoords\":[{\"line\":{\"colorbar\":{\"outlinewidth\":0,\"ticks\":\"\"}},\"type\":\"parcoords\"}],\"pie\":[{\"automargin\":true,\"type\":\"pie\"}],\"scatter\":[{\"marker\":{\"colorbar\":{\"outlinewidth\":0,\"ticks\":\"\"}},\"type\":\"scatter\"}],\"scatter3d\":[{\"line\":{\"colorbar\":{\"outlinewidth\":0,\"ticks\":\"\"}},\"marker\":{\"colorbar\":{\"outlinewidth\":0,\"ticks\":\"\"}},\"type\":\"scatter3d\"}],\"scattercarpet\":[{\"marker\":{\"colorbar\":{\"outlinewidth\":0,\"ticks\":\"\"}},\"type\":\"scattercarpet\"}],\"scattergeo\":[{\"marker\":{\"colorbar\":{\"outlinewidth\":0,\"ticks\":\"\"}},\"type\":\"scattergeo\"}],\"scattergl\":[{\"marker\":{\"colorbar\":{\"outlinewidth\":0,\"ticks\":\"\"}},\"type\":\"scattergl\"}],\"scattermapbox\":[{\"marker\":{\"colorbar\":{\"outlinewidth\":0,\"ticks\":\"\"}},\"type\":\"scattermapbox\"}],\"scatterpolar\":[{\"marker\":{\"colorbar\":{\"outlinewidth\":0,\"ticks\":\"\"}},\"type\":\"scatterpolar\"}],\"scatterpolargl\":[{\"marker\":{\"colorbar\":{\"outlinewidth\":0,\"ticks\":\"\"}},\"type\":\"scatterpolargl\"}],\"scatterternary\":[{\"marker\":{\"colorbar\":{\"outlinewidth\":0,\"ticks\":\"\"}},\"type\":\"scatterternary\"}],\"surface\":[{\"colorbar\":{\"outlinewidth\":0,\"ticks\":\"\"},\"colorscale\":[[0.0,\"#0d0887\"],[0.1111111111111111,\"#46039f\"],[0.2222222222222222,\"#7201a8\"],[0.3333333333333333,\"#9c179e\"],[0.4444444444444444,\"#bd3786\"],[0.5555555555555556,\"#d8576b\"],[0.6666666666666666,\"#ed7953\"],[0.7777777777777778,\"#fb9f3a\"],[0.8888888888888888,\"#fdca26\"],[1.0,\"#f0f921\"]],\"type\":\"surface\"}],\"table\":[{\"cells\":{\"fill\":{\"color\":\"#EBF0F8\"},\"line\":{\"color\":\"white\"}},\"header\":{\"fill\":{\"color\":\"#C8D4E3\"},\"line\":{\"color\":\"white\"}},\"type\":\"table\"}]},\"layout\":{\"annotationdefaults\":{\"arrowcolor\":\"#2a3f5f\",\"arrowhead\":0,\"arrowwidth\":1},\"autotypenumbers\":\"strict\",\"coloraxis\":{\"colorbar\":{\"outlinewidth\":0,\"ticks\":\"\"}},\"colorscale\":{\"diverging\":[[0,\"#8e0152\"],[0.1,\"#c51b7d\"],[0.2,\"#de77ae\"],[0.3,\"#f1b6da\"],[0.4,\"#fde0ef\"],[0.5,\"#f7f7f7\"],[0.6,\"#e6f5d0\"],[0.7,\"#b8e186\"],[0.8,\"#7fbc41\"],[0.9,\"#4d9221\"],[1,\"#276419\"]],\"sequential\":[[0.0,\"#0d0887\"],[0.1111111111111111,\"#46039f\"],[0.2222222222222222,\"#7201a8\"],[0.3333333333333333,\"#9c179e\"],[0.4444444444444444,\"#bd3786\"],[0.5555555555555556,\"#d8576b\"],[0.6666666666666666,\"#ed7953\"],[0.7777777777777778,\"#fb9f3a\"],[0.8888888888888888,\"#fdca26\"],[1.0,\"#f0f921\"]],\"sequentialminus\":[[0.0,\"#0d0887\"],[0.1111111111111111,\"#46039f\"],[0.2222222222222222,\"#7201a8\"],[0.3333333333333333,\"#9c179e\"],[0.4444444444444444,\"#bd3786\"],[0.5555555555555556,\"#d8576b\"],[0.6666666666666666,\"#ed7953\"],[0.7777777777777778,\"#fb9f3a\"],[0.8888888888888888,\"#fdca26\"],[1.0,\"#f0f921\"]]},\"colorway\":[\"#636efa\",\"#EF553B\",\"#00cc96\",\"#ab63fa\",\"#FFA15A\",\"#19d3f3\",\"#FF6692\",\"#B6E880\",\"#FF97FF\",\"#FECB52\"],\"font\":{\"color\":\"#2a3f5f\"},\"geo\":{\"bgcolor\":\"white\",\"lakecolor\":\"white\",\"landcolor\":\"#E5ECF6\",\"showlakes\":true,\"showland\":true,\"subunitcolor\":\"white\"},\"hoverlabel\":{\"align\":\"left\"},\"hovermode\":\"closest\",\"mapbox\":{\"style\":\"light\"},\"paper_bgcolor\":\"white\",\"plot_bgcolor\":\"#E5ECF6\",\"polar\":{\"angularaxis\":{\"gridcolor\":\"white\",\"linecolor\":\"white\",\"ticks\":\"\"},\"bgcolor\":\"#E5ECF6\",\"radialaxis\":{\"gridcolor\":\"white\",\"linecolor\":\"white\",\"ticks\":\"\"}},\"scene\":{\"xaxis\":{\"backgroundcolor\":\"#E5ECF6\",\"gridcolor\":\"white\",\"gridwidth\":2,\"linecolor\":\"white\",\"showbackground\":true,\"ticks\":\"\",\"zerolinecolor\":\"white\"},\"yaxis\":{\"backgroundcolor\":\"#E5ECF6\",\"gridcolor\":\"white\",\"gridwidth\":2,\"linecolor\":\"white\",\"showbackground\":true,\"ticks\":\"\",\"zerolinecolor\":\"white\"},\"zaxis\":{\"backgroundcolor\":\"#E5ECF6\",\"gridcolor\":\"white\",\"gridwidth\":2,\"linecolor\":\"white\",\"showbackground\":true,\"ticks\":\"\",\"zerolinecolor\":\"white\"}},\"shapedefaults\":{\"line\":{\"color\":\"#2a3f5f\"}},\"ternary\":{\"aaxis\":{\"gridcolor\":\"white\",\"linecolor\":\"white\",\"ticks\":\"\"},\"baxis\":{\"gridcolor\":\"white\",\"linecolor\":\"white\",\"ticks\":\"\"},\"bgcolor\":\"#E5ECF6\",\"caxis\":{\"gridcolor\":\"white\",\"linecolor\":\"white\",\"ticks\":\"\"}},\"title\":{\"x\":0.05},\"xaxis\":{\"automargin\":true,\"gridcolor\":\"white\",\"linecolor\":\"white\",\"ticks\":\"\",\"title\":{\"standoff\":15},\"zerolinecolor\":\"white\",\"zerolinewidth\":2},\"yaxis\":{\"automargin\":true,\"gridcolor\":\"white\",\"linecolor\":\"white\",\"ticks\":\"\",\"title\":{\"standoff\":15},\"zerolinecolor\":\"white\",\"zerolinewidth\":2}}},\"yaxis\":{\"title\":{\"text\":\"Score\"},\"range\":[0,105],\"tickvals\":[10,20,30,40,50,60,70,80,90,100],\"gridcolor\":\"lightgrey\"},\"xaxis\":{\"title\":{\"text\":\"Percentil\"},\"range\":[0,100],\"tickvals\":[10,20,30,40,50,60,70,80,90],\"gridcolor\":\"lightgrey\"},\"width\":700,\"plot_bgcolor\":\"white\",\"transition\":{\"duration\":500},\"title\":{\"text\":\"Comparaci\\u00f3n entre rating - Iberdrola\"}},                        {\"responsive\": true}                    ).then(function(){\n",
              "                            \n",
              "var gd = document.getElementById('bebf03fe-62b4-498f-b283-3fafb2b27f0b');\n",
              "var x = new MutationObserver(function (mutations, observer) {{\n",
              "        var display = window.getComputedStyle(gd).display;\n",
              "        if (!display || display === 'none') {{\n",
              "            console.log([gd, 'removed!']);\n",
              "            Plotly.purge(gd);\n",
              "            observer.disconnect();\n",
              "        }}\n",
              "}});\n",
              "\n",
              "// Listen for the removal of the full notebook cells\n",
              "var notebookContainer = gd.closest('#notebook-container');\n",
              "if (notebookContainer) {{\n",
              "    x.observe(notebookContainer, {childList: true});\n",
              "}}\n",
              "\n",
              "// Listen for the clearing of the current output cell\n",
              "var outputEl = gd.closest('.output');\n",
              "if (outputEl) {{\n",
              "    x.observe(outputEl, {childList: true});\n",
              "}}\n",
              "\n",
              "                        })                };                            </script>        </div>\n",
              "</body>\n",
              "</html>"
            ]
          },
          "metadata": {}
        }
      ]
    },
    {
      "cell_type": "markdown",
      "source": [
        "Debido a que tenemos el historico del rating de transparencia desde 2017 podemos analizar cual es la evolucion de los percentiles"
      ],
      "metadata": {
        "id": "xd0Rx0m0nYas"
      }
    },
    {
      "cell_type": "code",
      "source": [
        "import numpy as np\n",
        "percentiles_2021=[]\n",
        "arry = nuestro_2021['score']\n",
        "for i in range(0,100,1):\n",
        "  percentile = np.percentile(arry, i)\n",
        "  percentiles_2021.append(percentile)\n",
        "\n",
        "percentiles_2020=[]\n",
        "arry = nuestro_2020['score']\n",
        "for i in range(0,100,1):\n",
        "  percentile = np.percentile(arry, i)\n",
        "  percentiles_2020.append(percentile)\n",
        "\n",
        "percentiles_2019=[]\n",
        "arry = nuestro_2019['score']\n",
        "for i in range(0,100,1):\n",
        "  percentile = np.percentile(arry, i)\n",
        "  percentiles_2019.append(percentile)\n",
        "\n",
        "percentiles_2018=[]\n",
        "arry = nuestro_2018['score']\n",
        "for i in range(0,100,1):\n",
        "  percentile = np.percentile(arry, i)\n",
        "  percentiles_2018.append(percentile)\n",
        "\n",
        "percentiles_2017=[]\n",
        "arry = nuestro_2017['score']\n",
        "for i in range(0,100,1):\n",
        "  percentile = np.percentile(arry, i)\n",
        "  percentiles_2017.append(percentile)"
      ],
      "metadata": {
        "id": "NB35Q5HQnXjI"
      },
      "execution_count": 12,
      "outputs": []
    },
    {
      "cell_type": "code",
      "source": [
        "fig = go.Figure()\n",
        "\n",
        "fig.add_trace(go.Scatter(x=list(range(0,100)), y=percentiles_2021, name='2021',line = dict(color = 'salmon'),))\n",
        "fig.add_trace(go.Scatter(x=list(range(0,100)), y=percentiles_2020, name='2020',line = dict(color = 'forestgreen'),))\n",
        "fig.add_trace(go.Scatter(x=list(range(0,100)), y=percentiles_2019, name='2019',line = dict(color = 'turquoise'),))\n",
        "fig.add_trace(go.Scatter(x=list(range(0,100)), y=percentiles_2018, name='2018',line = dict(color = 'gold'),))\n",
        "fig.add_trace(go.Scatter(x=list(range(0,100)), y=percentiles_2017, name='2017',line = dict(color = 'mediumpurple'),))\n",
        "\n",
        "fig.update_layout(\n",
        "\n",
        "xaxis_title='Percentil',\n",
        "yaxis_title=\"Score Rat. Transparencia\",\n",
        "width=int(700),\n",
        "yaxis_range=[0,105],\n",
        "xaxis_range=[0,100],\n",
        "plot_bgcolor='white'\n",
        "    )\n",
        "fig.update_xaxes(tickvals=[10,20,30,40,50,60,70,80,90],gridcolor='lightgrey')\n",
        "fig.update_yaxes(tickvals=[10,20,30,40,50,60,70,80,90,100],gridcolor='lightgrey')\n",
        "fig.update_layout(transition_duration=500)\n",
        "fig.update_layout(title_text='Comparación histórica de percentiles ')\n",
        "fig.show()\n",
        "fig.write_image(\"comp_percentiles_años.png\")"
      ],
      "metadata": {
        "colab": {
          "base_uri": "https://localhost:8080/",
          "height": 542
        },
        "id": "OrGZo2vHnpM9",
        "outputId": "3097d8e3-781d-4b36-df8c-4052a33ea796"
      },
      "execution_count": 13,
      "outputs": [
        {
          "output_type": "display_data",
          "data": {
            "text/html": [
              "<html>\n",
              "<head><meta charset=\"utf-8\" /></head>\n",
              "<body>\n",
              "    <div>            <script src=\"https://cdnjs.cloudflare.com/ajax/libs/mathjax/2.7.5/MathJax.js?config=TeX-AMS-MML_SVG\"></script><script type=\"text/javascript\">if (window.MathJax) {MathJax.Hub.Config({SVG: {font: \"STIX-Web\"}});}</script>                <script type=\"text/javascript\">window.PlotlyConfig = {MathJaxConfig: 'local'};</script>\n",
              "        <script src=\"https://cdn.plot.ly/plotly-2.8.3.min.js\"></script>                <div id=\"4d418843-694d-45b2-bf6e-ee5e5944fe10\" class=\"plotly-graph-div\" style=\"height:525px; width:700px;\"></div>            <script type=\"text/javascript\">                                    window.PLOTLYENV=window.PLOTLYENV || {};                                    if (document.getElementById(\"4d418843-694d-45b2-bf6e-ee5e5944fe10\")) {                    Plotly.newPlot(                        \"4d418843-694d-45b2-bf6e-ee5e5944fe10\",                        [{\"line\":{\"color\":\"salmon\"},\"name\":\"2021\",\"x\":[0,1,2,3,4,5,6,7,8,9,10,11,12,13,14,15,16,17,18,19,20,21,22,23,24,25,26,27,28,29,30,31,32,33,34,35,36,37,38,39,40,41,42,43,44,45,46,47,48,49,50,51,52,53,54,55,56,57,58,59,60,61,62,63,64,65,66,67,68,69,70,71,72,73,74,75,76,77,78,79,80,81,82,83,84,85,86,87,88,89,90,91,92,93,94,95,96,97,98,99],\"y\":[24.07,24.2264,24.3828,24.6584,26.8412,29.024,31.0456,31.8582,32.6708,33.5392,34.668,35.7968,36.708,36.912,37.116,37.303999999999995,37.4536,37.6032,38.3036,40.0138,41.724000000000004,42.907799999999995,43.3396,43.7714,44.0272,44.085,44.1428,44.5732,45.3348,46.096399999999996,47.126,48.343199999999996,49.5604,50.1396,50.3708,50.602000000000004,51.5628,52.827600000000004,54.0924,54.449799999999996,54.528,54.606199999999994,55.294799999999995,56.1142,56.933600000000006,57.291000000000004,57.5868,57.8826,59.3912,60.9756,62.56,62.9578,63.355599999999995,63.733,63.784,63.835,63.894400000000005,64.0168,64.1392,64.25439999999999,64.336,64.41760000000001,64.7192,65.73580000000001,66.75240000000001,67.481,67.5184,67.5558,67.5812,67.5846,67.58800000000001,67.97080000000001,68.8956,69.8204,70.39320000000001,70.57,70.7468,70.938,71.142,71.346,71.73800000000001,72.2616,72.7852,73.0492,73.1716,73.294,74.1052,75.2034,76.30160000000001,76.56,76.56,76.56,76.61880000000001,76.6902,76.7616,77.499,78.3252,79.1514,80.77120000000001,82.44059999999999],\"type\":\"scatter\"},{\"line\":{\"color\":\"forestgreen\"},\"name\":\"2020\",\"x\":[0,1,2,3,4,5,6,7,8,9,10,11,12,13,14,15,16,17,18,19,20,21,22,23,24,25,26,27,28,29,30,31,32,33,34,35,36,37,38,39,40,41,42,43,44,45,46,47,48,49,50,51,52,53,54,55,56,57,58,59,60,61,62,63,64,65,66,67,68,69,70,71,72,73,74,75,76,77,78,79,80,81,82,83,84,85,86,87,88,89,90,91,92,93,94,95,96,97,98,99],\"y\":[9.21,9.6918,10.1736,10.6554,11.402800000000001,12.1585,12.914200000000001,14.107000000000001,15.328000000000001,16.549,17.116,17.6176,18.1192,18.9311,19.7858,20.6405,21.674400000000002,22.7403,23.806199999999997,25.1124,26.472,27.831599999999998,28.7986,29.659900000000004,30.5212,31.1475,31.6986,32.2497,33.6696,35.41529999999999,37.161,38.849199999999996,40.5124,42.1756,42.782799999999995,42.861999999999995,42.941199999999995,43.765899999999995,45.016600000000004,46.2673,46.952,47.2688,47.5856,47.9043,48.224399999999996,48.5445,48.8142,49.0419,49.269600000000004,49.788,50.58,51.37200000000001,51.9256,52.2259,52.526199999999996,52.9105,53.395599999999995,53.8807,54.224399999999996,54.3762,54.528,54.6538,54.7396,54.8254,54.8992,54.952,55.0048,55.0422,55.0488,55.0554,55.50099999999999,56.9563,58.41159999999999,59.551899999999996,59.852199999999996,60.1525,60.88240000000001,62.9548,65.02720000000001,66.6621,66.672,66.6819,66.8808,67.93019999999999,68.9796,70.20450000000001,72.4122,74.61990000000002,76.6032,76.95960000000001,77.316,77.6538,77.8056,77.95739999999999,78.1494,78.96449999999999,79.77959999999999,80.63459999999998,82.76639999999998,84.8982],\"type\":\"scatter\"},{\"line\":{\"color\":\"turquoise\"},\"name\":\"2019\",\"x\":[0,1,2,3,4,5,6,7,8,9,10,11,12,13,14,15,16,17,18,19,20,21,22,23,24,25,26,27,28,29,30,31,32,33,34,35,36,37,38,39,40,41,42,43,44,45,46,47,48,49,50,51,52,53,54,55,56,57,58,59,60,61,62,63,64,65,66,67,68,69,70,71,72,73,74,75,76,77,78,79,80,81,82,83,84,85,86,87,88,89,90,91,92,93,94,95,96,97,98,99],\"y\":[12.96,13.833,14.706,15.578999999999999,15.985999999999999,16.16,16.334,16.623,17.142,17.660999999999998,18.18,18.558,18.936,19.314,19.928,20.66,21.392,21.964,22.215999999999998,22.468,22.72,24.657999999999998,26.595999999999997,28.534000000000002,29.624,30.29,30.956,31.669000000000004,32.476,33.283,34.09,34.489000000000004,34.888000000000005,35.287,35.652,36.0,36.348,36.849999999999994,37.660000000000004,38.470000000000006,39.28,39.496,39.712,39.928,40.388,40.97,41.552,42.004999999999995,42.199999999999996,42.395,42.59,43.013000000000005,43.436,43.859,44.042,44.105000000000004,44.168,44.461,45.214,45.967,46.72,48.145,49.57000000000001,50.99499999999999,52.11,53.07,54.03,54.803000000000004,55.202000000000005,55.601,56.0,56.492,56.983999999999995,57.476,57.778,57.985,58.192,58.333,58.342,58.351,58.36,58.666000000000004,58.972,59.278,63.35599999999999,69.32000000000001,75.28400000000002,79.54700000000001,80.408,81.26899999999999,82.13,82.241,82.352,82.463,83.5,85.0,86.49999999999999,87.74199999999999,88.468,89.194],\"type\":\"scatter\"},{\"line\":{\"color\":\"gold\"},\"name\":\"2018\",\"x\":[0,1,2,3,4,5,6,7,8,9,10,11,12,13,14,15,16,17,18,19,20,21,22,23,24,25,26,27,28,29,30,31,32,33,34,35,36,37,38,39,40,41,42,43,44,45,46,47,48,49,50,51,52,53,54,55,56,57,58,59,60,61,62,63,64,65,66,67,68,69,70,71,72,73,74,75,76,77,78,79,80,81,82,83,84,85,86,87,88,89,90,91,92,93,94,95,96,97,98,99],\"y\":[8.33,8.33,8.33,8.33,9.164,10.415,11.665999999999999,12.969000000000001,14.376,15.783,17.19,18.789,20.387999999999998,21.987000000000002,22.727999999999998,23.04,23.352,23.604,23.736,23.868,24.0,24.3,24.6,24.9,25.651999999999997,26.630000000000003,27.608000000000004,28.291,28.384,28.477,28.57,29.080000000000002,29.59,30.1,30.578,31.04,31.502,32.379,34.086,35.793000000000006,37.5,38.259,39.018,39.777,40.54,41.305,42.07,42.867,43.727999999999994,44.589,45.45,47.022000000000006,48.59400000000001,50.166,50.864000000000004,51.125,51.386,51.751,52.324,52.897,53.47,53.815,54.16,54.504999999999995,54.907999999999994,55.34,55.772000000000006,56.121,56.304,56.487,56.67,56.868,57.065999999999995,57.263999999999996,57.577999999999996,57.95,58.322,59.06300000000001,60.54200000000001,62.021000000000015,63.5,64.049,64.598,65.14699999999999,65.782,66.46000000000001,67.138,67.849,68.626,69.403,70.18,71.626,73.072,74.51800000000001,75.312,75.78,76.24799999999999,77.73099999999998,81.24399999999999,84.75699999999999],\"type\":\"scatter\"},{\"line\":{\"color\":\"mediumpurple\"},\"name\":\"2017\",\"x\":[0,1,2,3,4,5,6,7,8,9,10,11,12,13,14,15,16,17,18,19,20,21,22,23,24,25,26,27,28,29,30,31,32,33,34,35,36,37,38,39,40,41,42,43,44,45,46,47,48,49,50,51,52,53,54,55,56,57,58,59,60,61,62,63,64,65,66,67,68,69,70,71,72,73,74,75,76,77,78,79,80,81,82,83,84,85,86,87,88,89,90,91,92,93,94,95,96,97,98,99],\"y\":[8.33,11.440800000000001,14.5516,17.6624,19.92,21.040000000000003,22.16,23.28,23.44,23.44,23.44,23.986400000000003,25.8988,27.8112,29.7236,30.466,30.7404,31.0148,31.2824,31.5092,31.736,31.9628,32.18,32.39,32.6,32.81,33.0116,33.2132,33.4148,33.806,34.45,35.094,35.738,35.9572,36.1056,36.254,36.4512,36.7704,37.0896,37.4088,37.734,38.0616,38.3892,38.702400000000004,38.9292,39.156,39.382799999999996,39.6432,39.928799999999995,40.2144,40.5,40.6652,40.830400000000004,40.9956,41.192,41.43,41.668,41.906,42.587999999999994,43.344,44.1,44.7296,45.0432,45.3568,45.6704,46.495999999999995,47.5264,48.5568,49.440799999999996,49.4464,49.452,49.4576,49.6744,50.0496,50.4248,50.8,51.1416,51.483200000000004,51.8248,52.263600000000004,52.83200000000001,53.4004,53.968799999999995,54.1988,54.3724,54.546,55.30119999999999,57.5104,59.71960000000001,61.92880000000002,62.86,63.28,63.7,64.22240000000001,65.3592,66.496,67.6328,69.712,72.49799999999998,75.28399999999999],\"type\":\"scatter\"}],                        {\"template\":{\"data\":{\"bar\":[{\"error_x\":{\"color\":\"#2a3f5f\"},\"error_y\":{\"color\":\"#2a3f5f\"},\"marker\":{\"line\":{\"color\":\"#E5ECF6\",\"width\":0.5},\"pattern\":{\"fillmode\":\"overlay\",\"size\":10,\"solidity\":0.2}},\"type\":\"bar\"}],\"barpolar\":[{\"marker\":{\"line\":{\"color\":\"#E5ECF6\",\"width\":0.5},\"pattern\":{\"fillmode\":\"overlay\",\"size\":10,\"solidity\":0.2}},\"type\":\"barpolar\"}],\"carpet\":[{\"aaxis\":{\"endlinecolor\":\"#2a3f5f\",\"gridcolor\":\"white\",\"linecolor\":\"white\",\"minorgridcolor\":\"white\",\"startlinecolor\":\"#2a3f5f\"},\"baxis\":{\"endlinecolor\":\"#2a3f5f\",\"gridcolor\":\"white\",\"linecolor\":\"white\",\"minorgridcolor\":\"white\",\"startlinecolor\":\"#2a3f5f\"},\"type\":\"carpet\"}],\"choropleth\":[{\"colorbar\":{\"outlinewidth\":0,\"ticks\":\"\"},\"type\":\"choropleth\"}],\"contour\":[{\"colorbar\":{\"outlinewidth\":0,\"ticks\":\"\"},\"colorscale\":[[0.0,\"#0d0887\"],[0.1111111111111111,\"#46039f\"],[0.2222222222222222,\"#7201a8\"],[0.3333333333333333,\"#9c179e\"],[0.4444444444444444,\"#bd3786\"],[0.5555555555555556,\"#d8576b\"],[0.6666666666666666,\"#ed7953\"],[0.7777777777777778,\"#fb9f3a\"],[0.8888888888888888,\"#fdca26\"],[1.0,\"#f0f921\"]],\"type\":\"contour\"}],\"contourcarpet\":[{\"colorbar\":{\"outlinewidth\":0,\"ticks\":\"\"},\"type\":\"contourcarpet\"}],\"heatmap\":[{\"colorbar\":{\"outlinewidth\":0,\"ticks\":\"\"},\"colorscale\":[[0.0,\"#0d0887\"],[0.1111111111111111,\"#46039f\"],[0.2222222222222222,\"#7201a8\"],[0.3333333333333333,\"#9c179e\"],[0.4444444444444444,\"#bd3786\"],[0.5555555555555556,\"#d8576b\"],[0.6666666666666666,\"#ed7953\"],[0.7777777777777778,\"#fb9f3a\"],[0.8888888888888888,\"#fdca26\"],[1.0,\"#f0f921\"]],\"type\":\"heatmap\"}],\"heatmapgl\":[{\"colorbar\":{\"outlinewidth\":0,\"ticks\":\"\"},\"colorscale\":[[0.0,\"#0d0887\"],[0.1111111111111111,\"#46039f\"],[0.2222222222222222,\"#7201a8\"],[0.3333333333333333,\"#9c179e\"],[0.4444444444444444,\"#bd3786\"],[0.5555555555555556,\"#d8576b\"],[0.6666666666666666,\"#ed7953\"],[0.7777777777777778,\"#fb9f3a\"],[0.8888888888888888,\"#fdca26\"],[1.0,\"#f0f921\"]],\"type\":\"heatmapgl\"}],\"histogram\":[{\"marker\":{\"pattern\":{\"fillmode\":\"overlay\",\"size\":10,\"solidity\":0.2}},\"type\":\"histogram\"}],\"histogram2d\":[{\"colorbar\":{\"outlinewidth\":0,\"ticks\":\"\"},\"colorscale\":[[0.0,\"#0d0887\"],[0.1111111111111111,\"#46039f\"],[0.2222222222222222,\"#7201a8\"],[0.3333333333333333,\"#9c179e\"],[0.4444444444444444,\"#bd3786\"],[0.5555555555555556,\"#d8576b\"],[0.6666666666666666,\"#ed7953\"],[0.7777777777777778,\"#fb9f3a\"],[0.8888888888888888,\"#fdca26\"],[1.0,\"#f0f921\"]],\"type\":\"histogram2d\"}],\"histogram2dcontour\":[{\"colorbar\":{\"outlinewidth\":0,\"ticks\":\"\"},\"colorscale\":[[0.0,\"#0d0887\"],[0.1111111111111111,\"#46039f\"],[0.2222222222222222,\"#7201a8\"],[0.3333333333333333,\"#9c179e\"],[0.4444444444444444,\"#bd3786\"],[0.5555555555555556,\"#d8576b\"],[0.6666666666666666,\"#ed7953\"],[0.7777777777777778,\"#fb9f3a\"],[0.8888888888888888,\"#fdca26\"],[1.0,\"#f0f921\"]],\"type\":\"histogram2dcontour\"}],\"mesh3d\":[{\"colorbar\":{\"outlinewidth\":0,\"ticks\":\"\"},\"type\":\"mesh3d\"}],\"parcoords\":[{\"line\":{\"colorbar\":{\"outlinewidth\":0,\"ticks\":\"\"}},\"type\":\"parcoords\"}],\"pie\":[{\"automargin\":true,\"type\":\"pie\"}],\"scatter\":[{\"marker\":{\"colorbar\":{\"outlinewidth\":0,\"ticks\":\"\"}},\"type\":\"scatter\"}],\"scatter3d\":[{\"line\":{\"colorbar\":{\"outlinewidth\":0,\"ticks\":\"\"}},\"marker\":{\"colorbar\":{\"outlinewidth\":0,\"ticks\":\"\"}},\"type\":\"scatter3d\"}],\"scattercarpet\":[{\"marker\":{\"colorbar\":{\"outlinewidth\":0,\"ticks\":\"\"}},\"type\":\"scattercarpet\"}],\"scattergeo\":[{\"marker\":{\"colorbar\":{\"outlinewidth\":0,\"ticks\":\"\"}},\"type\":\"scattergeo\"}],\"scattergl\":[{\"marker\":{\"colorbar\":{\"outlinewidth\":0,\"ticks\":\"\"}},\"type\":\"scattergl\"}],\"scattermapbox\":[{\"marker\":{\"colorbar\":{\"outlinewidth\":0,\"ticks\":\"\"}},\"type\":\"scattermapbox\"}],\"scatterpolar\":[{\"marker\":{\"colorbar\":{\"outlinewidth\":0,\"ticks\":\"\"}},\"type\":\"scatterpolar\"}],\"scatterpolargl\":[{\"marker\":{\"colorbar\":{\"outlinewidth\":0,\"ticks\":\"\"}},\"type\":\"scatterpolargl\"}],\"scatterternary\":[{\"marker\":{\"colorbar\":{\"outlinewidth\":0,\"ticks\":\"\"}},\"type\":\"scatterternary\"}],\"surface\":[{\"colorbar\":{\"outlinewidth\":0,\"ticks\":\"\"},\"colorscale\":[[0.0,\"#0d0887\"],[0.1111111111111111,\"#46039f\"],[0.2222222222222222,\"#7201a8\"],[0.3333333333333333,\"#9c179e\"],[0.4444444444444444,\"#bd3786\"],[0.5555555555555556,\"#d8576b\"],[0.6666666666666666,\"#ed7953\"],[0.7777777777777778,\"#fb9f3a\"],[0.8888888888888888,\"#fdca26\"],[1.0,\"#f0f921\"]],\"type\":\"surface\"}],\"table\":[{\"cells\":{\"fill\":{\"color\":\"#EBF0F8\"},\"line\":{\"color\":\"white\"}},\"header\":{\"fill\":{\"color\":\"#C8D4E3\"},\"line\":{\"color\":\"white\"}},\"type\":\"table\"}]},\"layout\":{\"annotationdefaults\":{\"arrowcolor\":\"#2a3f5f\",\"arrowhead\":0,\"arrowwidth\":1},\"autotypenumbers\":\"strict\",\"coloraxis\":{\"colorbar\":{\"outlinewidth\":0,\"ticks\":\"\"}},\"colorscale\":{\"diverging\":[[0,\"#8e0152\"],[0.1,\"#c51b7d\"],[0.2,\"#de77ae\"],[0.3,\"#f1b6da\"],[0.4,\"#fde0ef\"],[0.5,\"#f7f7f7\"],[0.6,\"#e6f5d0\"],[0.7,\"#b8e186\"],[0.8,\"#7fbc41\"],[0.9,\"#4d9221\"],[1,\"#276419\"]],\"sequential\":[[0.0,\"#0d0887\"],[0.1111111111111111,\"#46039f\"],[0.2222222222222222,\"#7201a8\"],[0.3333333333333333,\"#9c179e\"],[0.4444444444444444,\"#bd3786\"],[0.5555555555555556,\"#d8576b\"],[0.6666666666666666,\"#ed7953\"],[0.7777777777777778,\"#fb9f3a\"],[0.8888888888888888,\"#fdca26\"],[1.0,\"#f0f921\"]],\"sequentialminus\":[[0.0,\"#0d0887\"],[0.1111111111111111,\"#46039f\"],[0.2222222222222222,\"#7201a8\"],[0.3333333333333333,\"#9c179e\"],[0.4444444444444444,\"#bd3786\"],[0.5555555555555556,\"#d8576b\"],[0.6666666666666666,\"#ed7953\"],[0.7777777777777778,\"#fb9f3a\"],[0.8888888888888888,\"#fdca26\"],[1.0,\"#f0f921\"]]},\"colorway\":[\"#636efa\",\"#EF553B\",\"#00cc96\",\"#ab63fa\",\"#FFA15A\",\"#19d3f3\",\"#FF6692\",\"#B6E880\",\"#FF97FF\",\"#FECB52\"],\"font\":{\"color\":\"#2a3f5f\"},\"geo\":{\"bgcolor\":\"white\",\"lakecolor\":\"white\",\"landcolor\":\"#E5ECF6\",\"showlakes\":true,\"showland\":true,\"subunitcolor\":\"white\"},\"hoverlabel\":{\"align\":\"left\"},\"hovermode\":\"closest\",\"mapbox\":{\"style\":\"light\"},\"paper_bgcolor\":\"white\",\"plot_bgcolor\":\"#E5ECF6\",\"polar\":{\"angularaxis\":{\"gridcolor\":\"white\",\"linecolor\":\"white\",\"ticks\":\"\"},\"bgcolor\":\"#E5ECF6\",\"radialaxis\":{\"gridcolor\":\"white\",\"linecolor\":\"white\",\"ticks\":\"\"}},\"scene\":{\"xaxis\":{\"backgroundcolor\":\"#E5ECF6\",\"gridcolor\":\"white\",\"gridwidth\":2,\"linecolor\":\"white\",\"showbackground\":true,\"ticks\":\"\",\"zerolinecolor\":\"white\"},\"yaxis\":{\"backgroundcolor\":\"#E5ECF6\",\"gridcolor\":\"white\",\"gridwidth\":2,\"linecolor\":\"white\",\"showbackground\":true,\"ticks\":\"\",\"zerolinecolor\":\"white\"},\"zaxis\":{\"backgroundcolor\":\"#E5ECF6\",\"gridcolor\":\"white\",\"gridwidth\":2,\"linecolor\":\"white\",\"showbackground\":true,\"ticks\":\"\",\"zerolinecolor\":\"white\"}},\"shapedefaults\":{\"line\":{\"color\":\"#2a3f5f\"}},\"ternary\":{\"aaxis\":{\"gridcolor\":\"white\",\"linecolor\":\"white\",\"ticks\":\"\"},\"baxis\":{\"gridcolor\":\"white\",\"linecolor\":\"white\",\"ticks\":\"\"},\"bgcolor\":\"#E5ECF6\",\"caxis\":{\"gridcolor\":\"white\",\"linecolor\":\"white\",\"ticks\":\"\"}},\"title\":{\"x\":0.05},\"xaxis\":{\"automargin\":true,\"gridcolor\":\"white\",\"linecolor\":\"white\",\"ticks\":\"\",\"title\":{\"standoff\":15},\"zerolinecolor\":\"white\",\"zerolinewidth\":2},\"yaxis\":{\"automargin\":true,\"gridcolor\":\"white\",\"linecolor\":\"white\",\"ticks\":\"\",\"title\":{\"standoff\":15},\"zerolinecolor\":\"white\",\"zerolinewidth\":2}}},\"yaxis\":{\"title\":{\"text\":\"Score Rat. Transparencia\"},\"range\":[0,105],\"tickvals\":[10,20,30,40,50,60,70,80,90,100],\"gridcolor\":\"lightgrey\"},\"xaxis\":{\"title\":{\"text\":\"Percentil\"},\"range\":[0,100],\"tickvals\":[10,20,30,40,50,60,70,80,90],\"gridcolor\":\"lightgrey\"},\"width\":700,\"plot_bgcolor\":\"white\",\"transition\":{\"duration\":500},\"title\":{\"text\":\"Comparaci\\u00f3n hist\\u00f3rica de percentiles \"}},                        {\"responsive\": true}                    ).then(function(){\n",
              "                            \n",
              "var gd = document.getElementById('4d418843-694d-45b2-bf6e-ee5e5944fe10');\n",
              "var x = new MutationObserver(function (mutations, observer) {{\n",
              "        var display = window.getComputedStyle(gd).display;\n",
              "        if (!display || display === 'none') {{\n",
              "            console.log([gd, 'removed!']);\n",
              "            Plotly.purge(gd);\n",
              "            observer.disconnect();\n",
              "        }}\n",
              "}});\n",
              "\n",
              "// Listen for the removal of the full notebook cells\n",
              "var notebookContainer = gd.closest('#notebook-container');\n",
              "if (notebookContainer) {{\n",
              "    x.observe(notebookContainer, {childList: true});\n",
              "}}\n",
              "\n",
              "// Listen for the clearing of the current output cell\n",
              "var outputEl = gd.closest('.output');\n",
              "if (outputEl) {{\n",
              "    x.observe(outputEl, {childList: true});\n",
              "}}\n",
              "\n",
              "                        })                };                            </script>        </div>\n",
              "</body>\n",
              "</html>"
            ]
          },
          "metadata": {}
        }
      ]
    },
    {
      "cell_type": "code",
      "source": [
        "import numpy as np\n",
        "percentiles_2021=[]\n",
        "arry = nuestro_2021['score_cualitativo']\n",
        "for i in range(0,100,1):\n",
        "  percentile = np.percentile(arry, i)\n",
        "  percentiles_2021.append(percentile)\n",
        "\n",
        "percentiles_2020=[]\n",
        "arry = nuestro_2020['score_cualitativo']\n",
        "for i in range(0,100,1):\n",
        "  percentile = np.percentile(arry, i)\n",
        "  percentiles_2020.append(percentile)\n",
        "\n",
        "percentiles_2019=[]\n",
        "arry = nuestro_2019['score_cualitativo']\n",
        "for i in range(0,100,1):\n",
        "  percentile = np.percentile(arry, i)\n",
        "  percentiles_2019.append(percentile)\n",
        "\n",
        "percentiles_2018=[]\n",
        "arry = nuestro_2018['score_cualitativo']\n",
        "for i in range(0,100,1):\n",
        "  percentile = np.percentile(arry, i)\n",
        "  percentiles_2018.append(percentile)\n",
        "\n",
        "percentiles_2017=[]\n",
        "arry = nuestro_2017['score_cualitativo']\n",
        "for i in range(0,100,1):\n",
        "  percentile = np.percentile(arry, i)\n",
        "  percentiles_2017.append(percentile)"
      ],
      "metadata": {
        "id": "n0CZ6nCknny_"
      },
      "execution_count": 14,
      "outputs": []
    },
    {
      "cell_type": "code",
      "source": [
        "fig = go.Figure()\n",
        "\n",
        "fig.add_trace(go.Scatter(x=list(range(0,100)), y=percentiles_2021, name='2021',line = dict(color = 'salmon'),))\n",
        "fig.add_trace(go.Scatter(x=list(range(0,100)), y=percentiles_2020, name='2020',line = dict(color = 'forestgreen'),))\n",
        "fig.add_trace(go.Scatter(x=list(range(0,100)), y=percentiles_2019, name='2019',line = dict(color = 'turquoise'),))\n",
        "fig.add_trace(go.Scatter(x=list(range(0,100)), y=percentiles_2018, name='2018',line = dict(color = 'gold'),))\n",
        "fig.add_trace(go.Scatter(x=list(range(0,100)), y=percentiles_2017, name='2017',line = dict(color = 'mediumpurple'),))\n",
        "\n",
        "fig.update_layout(\n",
        "\n",
        "xaxis_title='Percentil',\n",
        "yaxis_title=\"Score Rat. Transparencia Cualitativo\",\n",
        "width=int(700),\n",
        "yaxis_range=[0,105],\n",
        "xaxis_range=[0,100],\n",
        "plot_bgcolor='white'\n",
        "    )\n",
        "fig.update_xaxes(tickvals=[10,20,30,40,50,60,70,80,90],gridcolor='lightgrey')\n",
        "fig.update_yaxes(tickvals=[10,20,30,40,50,60,70,80,90,100],gridcolor='lightgrey')\n",
        "fig.update_layout(transition_duration=500)\n",
        "fig.update_layout(title_text='Comparación histórica de percentiles ')\n",
        "fig.show()\n",
        "fig.write_image(\"comp_percentiles_años_cual.png\")"
      ],
      "metadata": {
        "colab": {
          "base_uri": "https://localhost:8080/",
          "height": 542
        },
        "id": "NE3VNG-nnydl",
        "outputId": "38fc5106-8c90-4796-d93a-1c8c5c67bf7b"
      },
      "execution_count": 15,
      "outputs": [
        {
          "output_type": "display_data",
          "data": {
            "text/html": [
              "<html>\n",
              "<head><meta charset=\"utf-8\" /></head>\n",
              "<body>\n",
              "    <div>            <script src=\"https://cdnjs.cloudflare.com/ajax/libs/mathjax/2.7.5/MathJax.js?config=TeX-AMS-MML_SVG\"></script><script type=\"text/javascript\">if (window.MathJax) {MathJax.Hub.Config({SVG: {font: \"STIX-Web\"}});}</script>                <script type=\"text/javascript\">window.PlotlyConfig = {MathJaxConfig: 'local'};</script>\n",
              "        <script src=\"https://cdn.plot.ly/plotly-2.8.3.min.js\"></script>                <div id=\"d634c53d-4a0a-4c57-9168-8e96d0c167df\" class=\"plotly-graph-div\" style=\"height:525px; width:700px;\"></div>            <script type=\"text/javascript\">                                    window.PLOTLYENV=window.PLOTLYENV || {};                                    if (document.getElementById(\"d634c53d-4a0a-4c57-9168-8e96d0c167df\")) {                    Plotly.newPlot(                        \"d634c53d-4a0a-4c57-9168-8e96d0c167df\",                        [{\"line\":{\"color\":\"salmon\"},\"name\":\"2021\",\"x\":[0,1,2,3,4,5,6,7,8,9,10,11,12,13,14,15,16,17,18,19,20,21,22,23,24,25,26,27,28,29,30,31,32,33,34,35,36,37,38,39,40,41,42,43,44,45,46,47,48,49,50,51,52,53,54,55,56,57,58,59,60,61,62,63,64,65,66,67,68,69,70,71,72,73,74,75,76,77,78,79,80,81,82,83,84,85,86,87,88,89,90,91,92,93,94,95,96,97,98,99],\"y\":[11.9,16.014,20.128,24.131,26.358,28.585,30.703200000000002,32.0054,33.3076,34.5426,35.464000000000006,36.385400000000004,37.60680000000001,39.803200000000004,41.9996,43.812,44.7028,45.5936,46.6368,47.9594,49.282000000000004,50.06,50.06,50.06,51.650400000000005,55.03,58.4096,60.45,61.300000000000004,62.15,62.726,63.1102,63.494400000000006,64.1668,64.9964,65.826,66.36519999999999,66.7834,67.2016,67.482,67.72,67.958,68.1176,68.2604,68.4032,68.519,68.6312,68.7434,68.75,68.75,68.75,68.75,68.75,68.7638,68.9984,69.233,69.55120000000001,70.4964,71.4416,72.4468,73.732,75.01719999999999,76.34159999999999,77.7934,79.2452,80.368,80.7012,81.0344,81.3172,81.5076,81.698,82.0228,82.53960000000001,83.0564,83.4372,83.66499999999999,83.8928,84.0684,84.1976,84.32679999999999,84.504,84.7148,84.9256,85.8536,87.1728,88.49199999999999,89.264,89.80799999999999,90.352,91.3302,92.44200000000001,93.55380000000001,95.4972,97.61880000000001,99.74039999999998,99.993,99.9964,99.9998,100.0,100.0],\"type\":\"scatter\"},{\"line\":{\"color\":\"forestgreen\"},\"name\":\"2020\",\"x\":[0,1,2,3,4,5,6,7,8,9,10,11,12,13,14,15,16,17,18,19,20,21,22,23,24,25,26,27,28,29,30,31,32,33,34,35,36,37,38,39,40,41,42,43,44,45,46,47,48,49,50,51,52,53,54,55,56,57,58,59,60,61,62,63,64,65,66,67,68,69,70,71,72,73,74,75,76,77,78,79,80,81,82,83,84,85,86,87,88,89,90,91,92,93,94,95,96,97,98,99],\"y\":[0.0,3.0393000000000003,6.078600000000001,9.1179,11.382800000000001,13.623500000000002,15.8642,16.6758,17.3952,18.1146,18.561,18.9801,19.3992,20.502699999999997,21.700599999999998,22.8985,25.3676,28.0637,30.759799999999995,33.612500000000004,36.50000000000001,39.387499999999996,41.3806,43.13290000000001,44.885200000000005,45.7875,46.4178,47.0481,47.8872,48.80459999999999,49.722,50.0138,50.0336,50.0534,50.4868,51.127,51.767199999999995,54.20499999999999,57.67000000000001,61.13500000000001,62.5,62.5,62.5,62.5779,62.7132,62.848499999999994,63.0846,63.4047,63.7248,64.135,64.63,65.125,65.7992,66.66380000000001,67.5284,68.0,68.0,68.0,68.105,68.35249999999999,68.6,68.8397,69.0674,69.29509999999999,69.5132,69.7145,69.9158,70.0786,70.1644,70.2502,70.376,70.5938,70.8116,71.0519,71.3522,71.6525,72.20960000000001,73.5692,74.92880000000001,76.1484,76.84800000000001,77.5476,78.47279999999999,80.41319999999999,82.3536,84.20450000000001,85.5542,86.90390000000001,88.1456,88.60430000000001,89.063,89.5142,89.89040000000001,90.26660000000001,90.8074,93.89949999999997,96.99159999999999,99.99,99.99,99.99],\"type\":\"scatter\"},{\"line\":{\"color\":\"turquoise\"},\"name\":\"2019\",\"x\":[0,1,2,3,4,5,6,7,8,9,10,11,12,13,14,15,16,17,18,19,20,21,22,23,24,25,26,27,28,29,30,31,32,33,34,35,36,37,38,39,40,41,42,43,44,45,46,47,48,49,50,51,52,53,54,55,56,57,58,59,60,61,62,63,64,65,66,67,68,69,70,71,72,73,74,75,76,77,78,79,80,81,82,83,84,85,86,87,88,89,90,91,92,93,94,95,96,97,98,99],\"y\":[15.4,16.234,17.068,17.902,18.434,18.814999999999998,19.195999999999998,19.692999999999998,20.422,21.151,21.88,22.459,23.037999999999997,23.617,24.392,25.265,26.137999999999998,26.825,27.139999999999997,27.455,27.77,29.308999999999997,30.848,32.387,33.196,33.64,34.084,34.615,35.32,36.025,36.73,37.378,38.025999999999996,38.674,41.512000000000015,45.445,49.377999999999986,52.157,52.628,53.099000000000004,53.57,53.951,54.332,54.713,54.982,55.195,55.408,55.62,55.83,56.04,56.25,56.718,57.18600000000001,57.654,58.248000000000005,58.905,59.562000000000005,60.0,60.0,60.0,60.0,60.873,61.746,62.61899999999999,63.053999999999995,63.269999999999996,63.486000000000004,63.655,63.730000000000004,63.805,63.88,64.402,64.924,65.446,65.956,66.46000000000001,66.964,67.544,68.276,69.008,69.74,73.025,76.30999999999997,79.59499999999998,81.428,82.535,83.642,85.004,86.87599999999999,88.74799999999999,90.62,93.43400000000001,96.24800000000002,99.06200000000003,100.0,100.0,100.0,100.0,100.0,100.0],\"type\":\"scatter\"},{\"line\":{\"color\":\"gold\"},\"name\":\"2018\",\"x\":[0,1,2,3,4,5,6,7,8,9,10,11,12,13,14,15,16,17,18,19,20,21,22,23,24,25,26,27,28,29,30,31,32,33,34,35,36,37,38,39,40,41,42,43,44,45,46,47,48,49,50,51,52,53,54,55,56,57,58,59,60,61,62,63,64,65,66,67,68,69,70,71,72,73,74,75,76,77,78,79,80,81,82,83,84,85,86,87,88,89,90,91,92,93,94,95,96,97,98,99],\"y\":[11.9,12.08,12.26,12.44,13.332,14.58,15.828,16.66,16.66,16.66,16.66,19.162,21.663999999999998,24.166000000000004,25.384,25.96,26.536,26.991000000000003,27.204,27.417,27.63,27.672,27.714,27.756,28.269999999999996,29.02,29.770000000000003,30.368000000000002,30.662,30.956,31.25,33.87500000000001,36.5,39.125,41.09,42.725,44.36,45.45,45.45,45.45,45.45,47.75099999999999,50.052,52.353,53.21,53.345,53.48,53.697,54.078,54.459,54.84,55.404,55.968,56.532,57.38600000000001,58.385,59.384,60.294999999999995,61.029999999999994,61.765,62.5,62.623,62.745999999999995,62.869,63.928,65.455,66.982,68.124,68.496,68.868,69.24,69.3,69.36,69.42,70.752,72.72,74.688,76.0,76.0,76.0,76.0,77.2,78.39999999999999,79.6,80.25,80.625,81.0,82.013,84.30199999999999,86.591,88.88,89.402,89.924,90.44600000000001,90.896,91.31,91.724,92.27499999999999,93.1,93.925],\"type\":\"scatter\"},{\"line\":{\"color\":\"mediumpurple\"},\"name\":\"2017\",\"x\":[0,1,2,3,4,5,6,7,8,9,10,11,12,13,14,15,16,17,18,19,20,21,22,23,24,25,26,27,28,29,30,31,32,33,34,35,36,37,38,39,40,41,42,43,44,45,46,47,48,49,50,51,52,53,54,55,56,57,58,59,60,61,62,63,64,65,66,67,68,69,70,71,72,73,74,75,76,77,78,79,80,81,82,83,84,85,86,87,88,89,90,91,92,93,94,95,96,97,98,99],\"y\":[16.66,19.7708,22.8816,25.9924,27.77,27.77,27.77,27.77,28.6052,29.5796,30.554000000000002,31.25,31.25,31.25,31.25,32.0,33.050000000000004,34.1,35.0376,35.3008,35.564,35.8272,36.0072,36.1248,36.242399999999996,36.36,36.6792,36.998400000000004,37.3176,37.572,37.74,37.908,38.076,38.7456,39.4988,40.251999999999995,41.0268,41.855599999999995,42.684400000000004,43.5132,43.8,43.87,43.94,44.058,44.464,44.870000000000005,45.276,45.6788,46.0792,46.4796,46.88,47.750800000000005,48.6216,49.4924,49.9912,49.994,49.9968,49.9996,50.48,51.04,51.6,52.0,52.0,52.0,52.0,52.568,53.363200000000006,54.15840000000001,55.04640000000002,56.491200000000006,57.93599999999999,59.380799999999994,60.1136,60.3124,60.5112,60.71,60.9452,61.1804,61.4156,61.7132,62.094,62.474799999999995,62.855599999999995,64.31159999999998,65.9468,67.58200000000001,69.24999999999999,71.0,72.75,74.50000000000001,75.2,75.48,75.76,76.0288,76.2304,76.432,76.6336,79.52,84.41999999999996,89.31999999999998],\"type\":\"scatter\"}],                        {\"template\":{\"data\":{\"bar\":[{\"error_x\":{\"color\":\"#2a3f5f\"},\"error_y\":{\"color\":\"#2a3f5f\"},\"marker\":{\"line\":{\"color\":\"#E5ECF6\",\"width\":0.5},\"pattern\":{\"fillmode\":\"overlay\",\"size\":10,\"solidity\":0.2}},\"type\":\"bar\"}],\"barpolar\":[{\"marker\":{\"line\":{\"color\":\"#E5ECF6\",\"width\":0.5},\"pattern\":{\"fillmode\":\"overlay\",\"size\":10,\"solidity\":0.2}},\"type\":\"barpolar\"}],\"carpet\":[{\"aaxis\":{\"endlinecolor\":\"#2a3f5f\",\"gridcolor\":\"white\",\"linecolor\":\"white\",\"minorgridcolor\":\"white\",\"startlinecolor\":\"#2a3f5f\"},\"baxis\":{\"endlinecolor\":\"#2a3f5f\",\"gridcolor\":\"white\",\"linecolor\":\"white\",\"minorgridcolor\":\"white\",\"startlinecolor\":\"#2a3f5f\"},\"type\":\"carpet\"}],\"choropleth\":[{\"colorbar\":{\"outlinewidth\":0,\"ticks\":\"\"},\"type\":\"choropleth\"}],\"contour\":[{\"colorbar\":{\"outlinewidth\":0,\"ticks\":\"\"},\"colorscale\":[[0.0,\"#0d0887\"],[0.1111111111111111,\"#46039f\"],[0.2222222222222222,\"#7201a8\"],[0.3333333333333333,\"#9c179e\"],[0.4444444444444444,\"#bd3786\"],[0.5555555555555556,\"#d8576b\"],[0.6666666666666666,\"#ed7953\"],[0.7777777777777778,\"#fb9f3a\"],[0.8888888888888888,\"#fdca26\"],[1.0,\"#f0f921\"]],\"type\":\"contour\"}],\"contourcarpet\":[{\"colorbar\":{\"outlinewidth\":0,\"ticks\":\"\"},\"type\":\"contourcarpet\"}],\"heatmap\":[{\"colorbar\":{\"outlinewidth\":0,\"ticks\":\"\"},\"colorscale\":[[0.0,\"#0d0887\"],[0.1111111111111111,\"#46039f\"],[0.2222222222222222,\"#7201a8\"],[0.3333333333333333,\"#9c179e\"],[0.4444444444444444,\"#bd3786\"],[0.5555555555555556,\"#d8576b\"],[0.6666666666666666,\"#ed7953\"],[0.7777777777777778,\"#fb9f3a\"],[0.8888888888888888,\"#fdca26\"],[1.0,\"#f0f921\"]],\"type\":\"heatmap\"}],\"heatmapgl\":[{\"colorbar\":{\"outlinewidth\":0,\"ticks\":\"\"},\"colorscale\":[[0.0,\"#0d0887\"],[0.1111111111111111,\"#46039f\"],[0.2222222222222222,\"#7201a8\"],[0.3333333333333333,\"#9c179e\"],[0.4444444444444444,\"#bd3786\"],[0.5555555555555556,\"#d8576b\"],[0.6666666666666666,\"#ed7953\"],[0.7777777777777778,\"#fb9f3a\"],[0.8888888888888888,\"#fdca26\"],[1.0,\"#f0f921\"]],\"type\":\"heatmapgl\"}],\"histogram\":[{\"marker\":{\"pattern\":{\"fillmode\":\"overlay\",\"size\":10,\"solidity\":0.2}},\"type\":\"histogram\"}],\"histogram2d\":[{\"colorbar\":{\"outlinewidth\":0,\"ticks\":\"\"},\"colorscale\":[[0.0,\"#0d0887\"],[0.1111111111111111,\"#46039f\"],[0.2222222222222222,\"#7201a8\"],[0.3333333333333333,\"#9c179e\"],[0.4444444444444444,\"#bd3786\"],[0.5555555555555556,\"#d8576b\"],[0.6666666666666666,\"#ed7953\"],[0.7777777777777778,\"#fb9f3a\"],[0.8888888888888888,\"#fdca26\"],[1.0,\"#f0f921\"]],\"type\":\"histogram2d\"}],\"histogram2dcontour\":[{\"colorbar\":{\"outlinewidth\":0,\"ticks\":\"\"},\"colorscale\":[[0.0,\"#0d0887\"],[0.1111111111111111,\"#46039f\"],[0.2222222222222222,\"#7201a8\"],[0.3333333333333333,\"#9c179e\"],[0.4444444444444444,\"#bd3786\"],[0.5555555555555556,\"#d8576b\"],[0.6666666666666666,\"#ed7953\"],[0.7777777777777778,\"#fb9f3a\"],[0.8888888888888888,\"#fdca26\"],[1.0,\"#f0f921\"]],\"type\":\"histogram2dcontour\"}],\"mesh3d\":[{\"colorbar\":{\"outlinewidth\":0,\"ticks\":\"\"},\"type\":\"mesh3d\"}],\"parcoords\":[{\"line\":{\"colorbar\":{\"outlinewidth\":0,\"ticks\":\"\"}},\"type\":\"parcoords\"}],\"pie\":[{\"automargin\":true,\"type\":\"pie\"}],\"scatter\":[{\"marker\":{\"colorbar\":{\"outlinewidth\":0,\"ticks\":\"\"}},\"type\":\"scatter\"}],\"scatter3d\":[{\"line\":{\"colorbar\":{\"outlinewidth\":0,\"ticks\":\"\"}},\"marker\":{\"colorbar\":{\"outlinewidth\":0,\"ticks\":\"\"}},\"type\":\"scatter3d\"}],\"scattercarpet\":[{\"marker\":{\"colorbar\":{\"outlinewidth\":0,\"ticks\":\"\"}},\"type\":\"scattercarpet\"}],\"scattergeo\":[{\"marker\":{\"colorbar\":{\"outlinewidth\":0,\"ticks\":\"\"}},\"type\":\"scattergeo\"}],\"scattergl\":[{\"marker\":{\"colorbar\":{\"outlinewidth\":0,\"ticks\":\"\"}},\"type\":\"scattergl\"}],\"scattermapbox\":[{\"marker\":{\"colorbar\":{\"outlinewidth\":0,\"ticks\":\"\"}},\"type\":\"scattermapbox\"}],\"scatterpolar\":[{\"marker\":{\"colorbar\":{\"outlinewidth\":0,\"ticks\":\"\"}},\"type\":\"scatterpolar\"}],\"scatterpolargl\":[{\"marker\":{\"colorbar\":{\"outlinewidth\":0,\"ticks\":\"\"}},\"type\":\"scatterpolargl\"}],\"scatterternary\":[{\"marker\":{\"colorbar\":{\"outlinewidth\":0,\"ticks\":\"\"}},\"type\":\"scatterternary\"}],\"surface\":[{\"colorbar\":{\"outlinewidth\":0,\"ticks\":\"\"},\"colorscale\":[[0.0,\"#0d0887\"],[0.1111111111111111,\"#46039f\"],[0.2222222222222222,\"#7201a8\"],[0.3333333333333333,\"#9c179e\"],[0.4444444444444444,\"#bd3786\"],[0.5555555555555556,\"#d8576b\"],[0.6666666666666666,\"#ed7953\"],[0.7777777777777778,\"#fb9f3a\"],[0.8888888888888888,\"#fdca26\"],[1.0,\"#f0f921\"]],\"type\":\"surface\"}],\"table\":[{\"cells\":{\"fill\":{\"color\":\"#EBF0F8\"},\"line\":{\"color\":\"white\"}},\"header\":{\"fill\":{\"color\":\"#C8D4E3\"},\"line\":{\"color\":\"white\"}},\"type\":\"table\"}]},\"layout\":{\"annotationdefaults\":{\"arrowcolor\":\"#2a3f5f\",\"arrowhead\":0,\"arrowwidth\":1},\"autotypenumbers\":\"strict\",\"coloraxis\":{\"colorbar\":{\"outlinewidth\":0,\"ticks\":\"\"}},\"colorscale\":{\"diverging\":[[0,\"#8e0152\"],[0.1,\"#c51b7d\"],[0.2,\"#de77ae\"],[0.3,\"#f1b6da\"],[0.4,\"#fde0ef\"],[0.5,\"#f7f7f7\"],[0.6,\"#e6f5d0\"],[0.7,\"#b8e186\"],[0.8,\"#7fbc41\"],[0.9,\"#4d9221\"],[1,\"#276419\"]],\"sequential\":[[0.0,\"#0d0887\"],[0.1111111111111111,\"#46039f\"],[0.2222222222222222,\"#7201a8\"],[0.3333333333333333,\"#9c179e\"],[0.4444444444444444,\"#bd3786\"],[0.5555555555555556,\"#d8576b\"],[0.6666666666666666,\"#ed7953\"],[0.7777777777777778,\"#fb9f3a\"],[0.8888888888888888,\"#fdca26\"],[1.0,\"#f0f921\"]],\"sequentialminus\":[[0.0,\"#0d0887\"],[0.1111111111111111,\"#46039f\"],[0.2222222222222222,\"#7201a8\"],[0.3333333333333333,\"#9c179e\"],[0.4444444444444444,\"#bd3786\"],[0.5555555555555556,\"#d8576b\"],[0.6666666666666666,\"#ed7953\"],[0.7777777777777778,\"#fb9f3a\"],[0.8888888888888888,\"#fdca26\"],[1.0,\"#f0f921\"]]},\"colorway\":[\"#636efa\",\"#EF553B\",\"#00cc96\",\"#ab63fa\",\"#FFA15A\",\"#19d3f3\",\"#FF6692\",\"#B6E880\",\"#FF97FF\",\"#FECB52\"],\"font\":{\"color\":\"#2a3f5f\"},\"geo\":{\"bgcolor\":\"white\",\"lakecolor\":\"white\",\"landcolor\":\"#E5ECF6\",\"showlakes\":true,\"showland\":true,\"subunitcolor\":\"white\"},\"hoverlabel\":{\"align\":\"left\"},\"hovermode\":\"closest\",\"mapbox\":{\"style\":\"light\"},\"paper_bgcolor\":\"white\",\"plot_bgcolor\":\"#E5ECF6\",\"polar\":{\"angularaxis\":{\"gridcolor\":\"white\",\"linecolor\":\"white\",\"ticks\":\"\"},\"bgcolor\":\"#E5ECF6\",\"radialaxis\":{\"gridcolor\":\"white\",\"linecolor\":\"white\",\"ticks\":\"\"}},\"scene\":{\"xaxis\":{\"backgroundcolor\":\"#E5ECF6\",\"gridcolor\":\"white\",\"gridwidth\":2,\"linecolor\":\"white\",\"showbackground\":true,\"ticks\":\"\",\"zerolinecolor\":\"white\"},\"yaxis\":{\"backgroundcolor\":\"#E5ECF6\",\"gridcolor\":\"white\",\"gridwidth\":2,\"linecolor\":\"white\",\"showbackground\":true,\"ticks\":\"\",\"zerolinecolor\":\"white\"},\"zaxis\":{\"backgroundcolor\":\"#E5ECF6\",\"gridcolor\":\"white\",\"gridwidth\":2,\"linecolor\":\"white\",\"showbackground\":true,\"ticks\":\"\",\"zerolinecolor\":\"white\"}},\"shapedefaults\":{\"line\":{\"color\":\"#2a3f5f\"}},\"ternary\":{\"aaxis\":{\"gridcolor\":\"white\",\"linecolor\":\"white\",\"ticks\":\"\"},\"baxis\":{\"gridcolor\":\"white\",\"linecolor\":\"white\",\"ticks\":\"\"},\"bgcolor\":\"#E5ECF6\",\"caxis\":{\"gridcolor\":\"white\",\"linecolor\":\"white\",\"ticks\":\"\"}},\"title\":{\"x\":0.05},\"xaxis\":{\"automargin\":true,\"gridcolor\":\"white\",\"linecolor\":\"white\",\"ticks\":\"\",\"title\":{\"standoff\":15},\"zerolinecolor\":\"white\",\"zerolinewidth\":2},\"yaxis\":{\"automargin\":true,\"gridcolor\":\"white\",\"linecolor\":\"white\",\"ticks\":\"\",\"title\":{\"standoff\":15},\"zerolinecolor\":\"white\",\"zerolinewidth\":2}}},\"yaxis\":{\"title\":{\"text\":\"Score Rat. Transparencia Cualitativo\"},\"range\":[0,105],\"tickvals\":[10,20,30,40,50,60,70,80,90,100],\"gridcolor\":\"lightgrey\"},\"xaxis\":{\"title\":{\"text\":\"Percentil\"},\"range\":[0,100],\"tickvals\":[10,20,30,40,50,60,70,80,90],\"gridcolor\":\"lightgrey\"},\"width\":700,\"plot_bgcolor\":\"white\",\"transition\":{\"duration\":500},\"title\":{\"text\":\"Comparaci\\u00f3n hist\\u00f3rica de percentiles \"}},                        {\"responsive\": true}                    ).then(function(){\n",
              "                            \n",
              "var gd = document.getElementById('d634c53d-4a0a-4c57-9168-8e96d0c167df');\n",
              "var x = new MutationObserver(function (mutations, observer) {{\n",
              "        var display = window.getComputedStyle(gd).display;\n",
              "        if (!display || display === 'none') {{\n",
              "            console.log([gd, 'removed!']);\n",
              "            Plotly.purge(gd);\n",
              "            observer.disconnect();\n",
              "        }}\n",
              "}});\n",
              "\n",
              "// Listen for the removal of the full notebook cells\n",
              "var notebookContainer = gd.closest('#notebook-container');\n",
              "if (notebookContainer) {{\n",
              "    x.observe(notebookContainer, {childList: true});\n",
              "}}\n",
              "\n",
              "// Listen for the clearing of the current output cell\n",
              "var outputEl = gd.closest('.output');\n",
              "if (outputEl) {{\n",
              "    x.observe(outputEl, {childList: true});\n",
              "}}\n",
              "\n",
              "                        })                };                            </script>        </div>\n",
              "</body>\n",
              "</html>"
            ]
          },
          "metadata": {}
        }
      ]
    }
  ]
}