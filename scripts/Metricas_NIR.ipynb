{
  "nbformat": 4,
  "nbformat_minor": 0,
  "metadata": {
    "colab": {
      "provenance": []
    },
    "kernelspec": {
      "name": "python3",
      "display_name": "Python 3"
    },
    "language_info": {
      "name": "python"
    }
  },
  "cells": [
    {
      "cell_type": "code",
      "execution_count": 1,
      "metadata": {
        "id": "HWbfiafrEB_H"
      },
      "outputs": [],
      "source": [
        "import pandas as pd"
      ]
    },
    {
      "cell_type": "markdown",
      "source": [
        "Cargamos los datos que contienen los resultados de los indicadores, tanto los devueltos por el modelo como los reales que han sido extraidos manualmente de los informes. \n",
        "\n",
        "Nos quedamos solo con los indicadores cualitativos que toman valores 0 o 1 para poder realizar calculo de distintas metricas"
      ],
      "metadata": {
        "id": "4ptUFrCGrRIJ"
      }
    },
    {
      "cell_type": "code",
      "source": [
        "modelo=pd.read_csv('variables_rating_app.csv', sep=';')\n",
        "real=pd.read_csv('variables_rating_real.csv', sep=';')"
      ],
      "metadata": {
        "id": "AgmGEbBnENrj"
      },
      "execution_count": 4,
      "outputs": []
    },
    {
      "cell_type": "code",
      "source": [
        "real=real[real.tipo=='cualitativo']\n",
        "modelo=modelo[modelo.tipo=='cualitativo']"
      ],
      "metadata": {
        "id": "OuHBBk4zENuM"
      },
      "execution_count": 7,
      "outputs": []
    },
    {
      "cell_type": "code",
      "source": [
        "real=real.rename(columns={'valor':'valor_real'})\n",
        "modelo=modelo.rename(columns={'valor':'valor_modelo'})\n",
        "real=real.drop(['tipo'], axis=1)\n",
        "modelo=modelo.drop(['tipo'], axis=1)"
      ],
      "metadata": {
        "id": "UwNtz6SPEsRE"
      },
      "execution_count": 10,
      "outputs": []
    },
    {
      "cell_type": "code",
      "source": [
        "resultados_comp=real.merge(modelo, on=['empresa','año', 'variable'])"
      ],
      "metadata": {
        "id": "xSu1LIExENws"
      },
      "execution_count": 16,
      "outputs": []
    },
    {
      "cell_type": "code",
      "source": [
        "from sklearn.metrics import f1_score,confusion_matrix,accuracy_score,precision_score,recall_score"
      ],
      "metadata": {
        "id": "3pcoY-4pFIUq"
      },
      "execution_count": 26,
      "outputs": []
    },
    {
      "cell_type": "markdown",
      "source": [
        "Se realiza el calculo de F1-Score, la matriz de confusión, asi como accuracy, precision y recall"
      ],
      "metadata": {
        "id": "n_UBrn0dr0XI"
      }
    },
    {
      "cell_type": "code",
      "source": [
        "f1_score(resultados_comp['valor_real'], resultados_comp['valor_modelo'])"
      ],
      "metadata": {
        "colab": {
          "base_uri": "https://localhost:8080/"
        },
        "id": "HAACRefdFIZN",
        "outputId": "2a47b16d-a4bb-4179-c489-c8cde8a80ad2"
      },
      "execution_count": 17,
      "outputs": [
        {
          "output_type": "execute_result",
          "data": {
            "text/plain": [
              "0.803594351732991"
            ]
          },
          "metadata": {},
          "execution_count": 17
        }
      ]
    },
    {
      "cell_type": "code",
      "source": [
        "confusion_matrix(resultados_comp['valor_real'], resultados_comp['valor_modelo'])"
      ],
      "metadata": {
        "colab": {
          "base_uri": "https://localhost:8080/"
        },
        "id": "MNSUgGOhF61S",
        "outputId": "a6a888dc-fdfb-46c3-e35c-34c168cbd314"
      },
      "execution_count": 20,
      "outputs": [
        {
          "output_type": "execute_result",
          "data": {
            "text/plain": [
              "array([[ 70,  11],\n",
              "       [142, 313]])"
            ]
          },
          "metadata": {},
          "execution_count": 20
        }
      ]
    },
    {
      "cell_type": "code",
      "source": [
        "accuracy_score(resultados_comp['valor_real'], resultados_comp['valor_modelo'])"
      ],
      "metadata": {
        "colab": {
          "base_uri": "https://localhost:8080/"
        },
        "id": "tzGjyHqDGUIe",
        "outputId": "31159048-d349-4ad1-dfaa-ddf60522590f"
      },
      "execution_count": 22,
      "outputs": [
        {
          "output_type": "execute_result",
          "data": {
            "text/plain": [
              "0.7145522388059702"
            ]
          },
          "metadata": {},
          "execution_count": 22
        }
      ]
    },
    {
      "cell_type": "code",
      "source": [
        "precision_score(resultados_comp['valor_real'], resultados_comp['valor_modelo'])"
      ],
      "metadata": {
        "colab": {
          "base_uri": "https://localhost:8080/"
        },
        "id": "uNUrezxbGcwA",
        "outputId": "fdafe9c1-ee3b-4498-b876-64213f6e4033"
      },
      "execution_count": 25,
      "outputs": [
        {
          "output_type": "execute_result",
          "data": {
            "text/plain": [
              "0.9660493827160493"
            ]
          },
          "metadata": {},
          "execution_count": 25
        }
      ]
    },
    {
      "cell_type": "code",
      "source": [
        "recall_score(resultados_comp['valor_real'], resultados_comp['valor_modelo'])"
      ],
      "metadata": {
        "colab": {
          "base_uri": "https://localhost:8080/"
        },
        "id": "6SbArQgyGi5u",
        "outputId": "c9151cc9-970a-491f-b7a2-93346f6e46b4"
      },
      "execution_count": 27,
      "outputs": [
        {
          "output_type": "execute_result",
          "data": {
            "text/plain": [
              "0.6879120879120879"
            ]
          },
          "metadata": {},
          "execution_count": 27
        }
      ]
    }
  ]
}